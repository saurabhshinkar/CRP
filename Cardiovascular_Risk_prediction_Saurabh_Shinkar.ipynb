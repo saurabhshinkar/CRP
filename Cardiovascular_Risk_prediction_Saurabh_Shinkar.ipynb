{
  "nbformat": 4,
  "nbformat_minor": 0,
  "metadata": {
    "colab": {
      "name": "Cardiovascular Risk prediction- Saurabh Shinkar.ipynb",
      "provenance": [],
      "authorship_tag": "ABX9TyNw7JgsuZyKZ1xb46MwARRr",
      "include_colab_link": true
    },
    "kernelspec": {
      "name": "python3",
      "display_name": "Python 3"
    },
    "language_info": {
      "name": "python"
    }
  },
  "cells": [
    {
      "cell_type": "markdown",
      "metadata": {
        "id": "view-in-github",
        "colab_type": "text"
      },
      "source": [
        "<a href=\"https://colab.research.google.com/github/saurabhshinkar/CRP/blob/main/Cardiovascular_Risk_prediction_Saurabh_Shinkar.ipynb\" target=\"_parent\"><img src=\"https://colab.research.google.com/assets/colab-badge.svg\" alt=\"Open In Colab\"/></a>"
      ]
    },
    {
      "cell_type": "markdown",
      "source": [
        "# **Project Title : Cardiovascular Risk Prediction**"
      ],
      "metadata": {
        "id": "QeDJyE36A--V"
      }
    },
    {
      "cell_type": "markdown",
      "source": [
        "### <b> Problem Description </b>\n",
        "### The dataset is from an ongoing cardiovascular study on residents of the town of Framingham,Massachusetts. The classification goal is to predict whether the patient has a 10-year risk of future coronary heart disease (CHD)."
      ],
      "metadata": {
        "id": "OHtPERyqBTJS"
      }
    },
    {
      "cell_type": "markdown",
      "source": [
        "## <b> Data Description </b>\n",
        "\n",
        "### <b> The dataset provides the patients’ information. It includesover 4,000 records and 15 attributes.Variables Each attribute is a potential risk factor. There are both demographic, behavioral, and medical risk factors.</b>\n",
        "\n",
        "### <b>Demographic: </b>\n",
        "\n",
        "\n",
        "• **Sex**: male or female(\"M\" or \"F\")\n",
        "\n",
        "•** Age**: Age of the patient;(Continuous - Although the recorded ages have been truncated to\n",
        "whole numbers, the concept of age is continuous)\n",
        "Behavioral\n",
        "\n",
        "• **is_smoking**: whether or not the patient is a current smoker (\"YES\" or \"NO\")\n",
        "\n",
        "• **Cigs Per Day**: the number of cigarettes that the person smoked on average in one day.(can be\n",
        "considered continuous as one can have any number of cigarettes, even half a cigarette.)\n",
        "\n",
        "### <b>Medical( history): </b>\n",
        "\n",
        "\n",
        "• **BP Meds**: whether or not the patient was on blood pressure medication (Nominal)\n",
        "\n",
        "• **Prevalent Stroke**: whether or not the patient had previously had a stroke (Nominal)\n",
        "\n",
        "• **Prevalent Hyp**: whether or not the patient was hypertensive (Nominal)\n",
        "\n",
        "• **Diabetes**: whether or not the patient had diabetes (Nominal)\n",
        "\n",
        "### <b>Medical(current): </b>\n",
        "\n",
        "\n",
        "• **Tot Chol**: total cholesterol level (Continuous)\n",
        "\n",
        "• **Sys BP**: systolic blood pressure (Continuous)\n",
        "\n",
        "• **Dia BP**: diastolic blood pressure (Continuous)\n",
        "\n",
        "• **BMI**: Body Mass Index (Continuous)\n",
        "\n",
        "• **Heart Rate**: heart rate (Continuous - In medical research, variables such as heart rate though in\n",
        "fact discrete, yet are considered continuous because of large number of possible values.)\n",
        "\n",
        "• **Glucose**: glucose level (Continuous)\n",
        "\n",
        "### <b>Predict variable (desired target) </b>\n",
        "\n",
        "\n",
        "• 10-year risk of coronary heart disease CHD(binary: “1”, means “Yes”, “0” means “No”) -\n",
        "DV"
      ],
      "metadata": {
        "id": "8K9JJiCBAbfa"
      }
    },
    {
      "cell_type": "markdown",
      "source": [
        "# **Importing** **Libraries**"
      ],
      "metadata": {
        "id": "W8f9XFqQEBNH"
      }
    },
    {
      "cell_type": "code",
      "source": [
        "#Import all library that will be used in entire project\n",
        "\n",
        "%matplotlib inline\n",
        "import pandas as pd\n",
        "import matplotlib.pyplot as plt\n",
        "import seaborn as sns\n",
        "import numpy as np\n",
        "from scipy.stats import norm\n",
        "from sklearn.preprocessing import MinMaxScaler\n",
        "from sklearn.preprocessing import StandardScaler\n",
        "from sklearn.metrics import roc_auc_score, confusion_matrix,accuracy_score,f1_score,roc_curve, roc_auc_score,classification_report,precision_score, recall_score\n",
        "from sklearn.model_selection import train_test_split\n",
        "from scipy import stats\n",
        "import warnings\n",
        "warnings.filterwarnings('ignore')\n",
        "\n",
        "from imblearn.over_sampling import SMOTE\n",
        "from sklearn.linear_model import LogisticRegression\n",
        "from sklearn.tree import DecisionTreeClassifier\n",
        "from sklearn.ensemble import RandomForestClassifier\n",
        "import xgboost as xg\n",
        "from sklearn.naive_bayes import GaussianNB\n",
        "from sklearn.svm import SVC \n",
        "\n"
      ],
      "metadata": {
        "id": "i9V414t1Aai2"
      },
      "execution_count": 414,
      "outputs": []
    },
    {
      "cell_type": "markdown",
      "source": [
        "# **Mount Drive And Import Data**"
      ],
      "metadata": {
        "id": "M1V7Mm-9EJDS"
      }
    },
    {
      "cell_type": "code",
      "source": [
        "#Mount google drive for access of the play store dataset\n",
        "from google.colab import drive\n",
        "drive.mount('/content/drive')"
      ],
      "metadata": {
        "id": "aVsmx4GvEPTi"
      },
      "execution_count": null,
      "outputs": []
    },
    {
      "cell_type": "code",
      "source": [
        "# Importing Dataset\n",
        "File_path='/content/drive/MyDrive/Capstone Projects/Cardiovascular Risk prediction/'\n",
        "data= pd.read_csv(File_path + 'data_cardiovascular_risk.csv')"
      ],
      "metadata": {
        "id": "Hq2NclMbEZs7"
      },
      "execution_count": null,
      "outputs": []
    },
    {
      "cell_type": "code",
      "source": [
        "# First Look \n",
        "data.head()"
      ],
      "metadata": {
        "id": "fKbAIdx-ExL_"
      },
      "execution_count": null,
      "outputs": []
    },
    {
      "cell_type": "code",
      "source": [
        "#tail of data\n",
        "data.tail()"
      ],
      "metadata": {
        "id": "4JTVaGnfFKmk",
        "colab": {
          "base_uri": "https://localhost:8080/",
          "height": 206
        },
        "outputId": "daa0968a-5a35-43cb-8736-5bdf64181a40"
      },
      "execution_count": 399,
      "outputs": [
        {
          "output_type": "execute_result",
          "data": {
            "text/plain": [
              "      age  education  cigsPerDay  BPMeds  prevalentStroke  prevalentHyp  \\\n",
              "3384   61        1.0         0.0     0.0                0             1   \n",
              "3385   60        1.0         0.0     0.0                0             0   \n",
              "3386   46        1.0         0.0     0.0                0             0   \n",
              "3387   44        3.0         3.0     0.0                0             1   \n",
              "3389   54        3.0         0.0     0.0                0             0   \n",
              "\n",
              "      diabetes  totChol  sysBP    BMI  glucose  TenYearCHD  sex_F  sex_M  \n",
              "3384         0    217.0  182.0  26.98    113.0           0      1      0  \n",
              "3385         0    261.0  123.5  29.28    103.0           0      1      0  \n",
              "3386         0    199.0  102.0  21.96     84.0           0      1      0  \n",
              "3387         0    352.0  164.0  28.92     72.0           1      0      1  \n",
              "3389         0    288.0  124.0  29.88     92.0           0      1      0  "
            ],
            "text/html": [
              "\n",
              "  <div id=\"df-08184b91-4155-46c7-aed5-d4b1a21d5e49\">\n",
              "    <div class=\"colab-df-container\">\n",
              "      <div>\n",
              "<style scoped>\n",
              "    .dataframe tbody tr th:only-of-type {\n",
              "        vertical-align: middle;\n",
              "    }\n",
              "\n",
              "    .dataframe tbody tr th {\n",
              "        vertical-align: top;\n",
              "    }\n",
              "\n",
              "    .dataframe thead th {\n",
              "        text-align: right;\n",
              "    }\n",
              "</style>\n",
              "<table border=\"1\" class=\"dataframe\">\n",
              "  <thead>\n",
              "    <tr style=\"text-align: right;\">\n",
              "      <th></th>\n",
              "      <th>age</th>\n",
              "      <th>education</th>\n",
              "      <th>cigsPerDay</th>\n",
              "      <th>BPMeds</th>\n",
              "      <th>prevalentStroke</th>\n",
              "      <th>prevalentHyp</th>\n",
              "      <th>diabetes</th>\n",
              "      <th>totChol</th>\n",
              "      <th>sysBP</th>\n",
              "      <th>BMI</th>\n",
              "      <th>glucose</th>\n",
              "      <th>TenYearCHD</th>\n",
              "      <th>sex_F</th>\n",
              "      <th>sex_M</th>\n",
              "    </tr>\n",
              "  </thead>\n",
              "  <tbody>\n",
              "    <tr>\n",
              "      <th>3384</th>\n",
              "      <td>61</td>\n",
              "      <td>1.0</td>\n",
              "      <td>0.0</td>\n",
              "      <td>0.0</td>\n",
              "      <td>0</td>\n",
              "      <td>1</td>\n",
              "      <td>0</td>\n",
              "      <td>217.0</td>\n",
              "      <td>182.0</td>\n",
              "      <td>26.98</td>\n",
              "      <td>113.0</td>\n",
              "      <td>0</td>\n",
              "      <td>1</td>\n",
              "      <td>0</td>\n",
              "    </tr>\n",
              "    <tr>\n",
              "      <th>3385</th>\n",
              "      <td>60</td>\n",
              "      <td>1.0</td>\n",
              "      <td>0.0</td>\n",
              "      <td>0.0</td>\n",
              "      <td>0</td>\n",
              "      <td>0</td>\n",
              "      <td>0</td>\n",
              "      <td>261.0</td>\n",
              "      <td>123.5</td>\n",
              "      <td>29.28</td>\n",
              "      <td>103.0</td>\n",
              "      <td>0</td>\n",
              "      <td>1</td>\n",
              "      <td>0</td>\n",
              "    </tr>\n",
              "    <tr>\n",
              "      <th>3386</th>\n",
              "      <td>46</td>\n",
              "      <td>1.0</td>\n",
              "      <td>0.0</td>\n",
              "      <td>0.0</td>\n",
              "      <td>0</td>\n",
              "      <td>0</td>\n",
              "      <td>0</td>\n",
              "      <td>199.0</td>\n",
              "      <td>102.0</td>\n",
              "      <td>21.96</td>\n",
              "      <td>84.0</td>\n",
              "      <td>0</td>\n",
              "      <td>1</td>\n",
              "      <td>0</td>\n",
              "    </tr>\n",
              "    <tr>\n",
              "      <th>3387</th>\n",
              "      <td>44</td>\n",
              "      <td>3.0</td>\n",
              "      <td>3.0</td>\n",
              "      <td>0.0</td>\n",
              "      <td>0</td>\n",
              "      <td>1</td>\n",
              "      <td>0</td>\n",
              "      <td>352.0</td>\n",
              "      <td>164.0</td>\n",
              "      <td>28.92</td>\n",
              "      <td>72.0</td>\n",
              "      <td>1</td>\n",
              "      <td>0</td>\n",
              "      <td>1</td>\n",
              "    </tr>\n",
              "    <tr>\n",
              "      <th>3389</th>\n",
              "      <td>54</td>\n",
              "      <td>3.0</td>\n",
              "      <td>0.0</td>\n",
              "      <td>0.0</td>\n",
              "      <td>0</td>\n",
              "      <td>0</td>\n",
              "      <td>0</td>\n",
              "      <td>288.0</td>\n",
              "      <td>124.0</td>\n",
              "      <td>29.88</td>\n",
              "      <td>92.0</td>\n",
              "      <td>0</td>\n",
              "      <td>1</td>\n",
              "      <td>0</td>\n",
              "    </tr>\n",
              "  </tbody>\n",
              "</table>\n",
              "</div>\n",
              "      <button class=\"colab-df-convert\" onclick=\"convertToInteractive('df-08184b91-4155-46c7-aed5-d4b1a21d5e49')\"\n",
              "              title=\"Convert this dataframe to an interactive table.\"\n",
              "              style=\"display:none;\">\n",
              "        \n",
              "  <svg xmlns=\"http://www.w3.org/2000/svg\" height=\"24px\"viewBox=\"0 0 24 24\"\n",
              "       width=\"24px\">\n",
              "    <path d=\"M0 0h24v24H0V0z\" fill=\"none\"/>\n",
              "    <path d=\"M18.56 5.44l.94 2.06.94-2.06 2.06-.94-2.06-.94-.94-2.06-.94 2.06-2.06.94zm-11 1L8.5 8.5l.94-2.06 2.06-.94-2.06-.94L8.5 2.5l-.94 2.06-2.06.94zm10 10l.94 2.06.94-2.06 2.06-.94-2.06-.94-.94-2.06-.94 2.06-2.06.94z\"/><path d=\"M17.41 7.96l-1.37-1.37c-.4-.4-.92-.59-1.43-.59-.52 0-1.04.2-1.43.59L10.3 9.45l-7.72 7.72c-.78.78-.78 2.05 0 2.83L4 21.41c.39.39.9.59 1.41.59.51 0 1.02-.2 1.41-.59l7.78-7.78 2.81-2.81c.8-.78.8-2.07 0-2.86zM5.41 20L4 18.59l7.72-7.72 1.47 1.35L5.41 20z\"/>\n",
              "  </svg>\n",
              "      </button>\n",
              "      \n",
              "  <style>\n",
              "    .colab-df-container {\n",
              "      display:flex;\n",
              "      flex-wrap:wrap;\n",
              "      gap: 12px;\n",
              "    }\n",
              "\n",
              "    .colab-df-convert {\n",
              "      background-color: #E8F0FE;\n",
              "      border: none;\n",
              "      border-radius: 50%;\n",
              "      cursor: pointer;\n",
              "      display: none;\n",
              "      fill: #1967D2;\n",
              "      height: 32px;\n",
              "      padding: 0 0 0 0;\n",
              "      width: 32px;\n",
              "    }\n",
              "\n",
              "    .colab-df-convert:hover {\n",
              "      background-color: #E2EBFA;\n",
              "      box-shadow: 0px 1px 2px rgba(60, 64, 67, 0.3), 0px 1px 3px 1px rgba(60, 64, 67, 0.15);\n",
              "      fill: #174EA6;\n",
              "    }\n",
              "\n",
              "    [theme=dark] .colab-df-convert {\n",
              "      background-color: #3B4455;\n",
              "      fill: #D2E3FC;\n",
              "    }\n",
              "\n",
              "    [theme=dark] .colab-df-convert:hover {\n",
              "      background-color: #434B5C;\n",
              "      box-shadow: 0px 1px 3px 1px rgba(0, 0, 0, 0.15);\n",
              "      filter: drop-shadow(0px 1px 2px rgba(0, 0, 0, 0.3));\n",
              "      fill: #FFFFFF;\n",
              "    }\n",
              "  </style>\n",
              "\n",
              "      <script>\n",
              "        const buttonEl =\n",
              "          document.querySelector('#df-08184b91-4155-46c7-aed5-d4b1a21d5e49 button.colab-df-convert');\n",
              "        buttonEl.style.display =\n",
              "          google.colab.kernel.accessAllowed ? 'block' : 'none';\n",
              "\n",
              "        async function convertToInteractive(key) {\n",
              "          const element = document.querySelector('#df-08184b91-4155-46c7-aed5-d4b1a21d5e49');\n",
              "          const dataTable =\n",
              "            await google.colab.kernel.invokeFunction('convertToInteractive',\n",
              "                                                     [key], {});\n",
              "          if (!dataTable) return;\n",
              "\n",
              "          const docLinkHtml = 'Like what you see? Visit the ' +\n",
              "            '<a target=\"_blank\" href=https://colab.research.google.com/notebooks/data_table.ipynb>data table notebook</a>'\n",
              "            + ' to learn more about interactive tables.';\n",
              "          element.innerHTML = '';\n",
              "          dataTable['output_type'] = 'display_data';\n",
              "          await google.colab.output.renderOutput(dataTable, element);\n",
              "          const docLink = document.createElement('div');\n",
              "          docLink.innerHTML = docLinkHtml;\n",
              "          element.appendChild(docLink);\n",
              "        }\n",
              "      </script>\n",
              "    </div>\n",
              "  </div>\n",
              "  "
            ]
          },
          "metadata": {},
          "execution_count": 399
        }
      ]
    },
    {
      "cell_type": "code",
      "source": [
        "#data information\n",
        "data.info()"
      ],
      "metadata": {
        "colab": {
          "base_uri": "https://localhost:8080/"
        },
        "id": "4F_ynOnHFPaX",
        "outputId": "67947c51-4970-4ff6-d88b-4e075c0b5043"
      },
      "execution_count": 400,
      "outputs": [
        {
          "output_type": "stream",
          "name": "stdout",
          "text": [
            "<class 'pandas.core.frame.DataFrame'>\n",
            "Int64Index: 3272 entries, 1 to 3389\n",
            "Data columns (total 14 columns):\n",
            " #   Column           Non-Null Count  Dtype  \n",
            "---  ------           --------------  -----  \n",
            " 0   age              3272 non-null   int64  \n",
            " 1   education        3272 non-null   float64\n",
            " 2   cigsPerDay       3272 non-null   float64\n",
            " 3   BPMeds           3272 non-null   float64\n",
            " 4   prevalentStroke  3272 non-null   int64  \n",
            " 5   prevalentHyp     3272 non-null   int64  \n",
            " 6   diabetes         3272 non-null   int64  \n",
            " 7   totChol          3272 non-null   float64\n",
            " 8   sysBP            3272 non-null   float64\n",
            " 9   BMI              3272 non-null   float64\n",
            " 10  glucose          3272 non-null   float64\n",
            " 11  TenYearCHD       3272 non-null   int64  \n",
            " 12  sex_F            3272 non-null   uint8  \n",
            " 13  sex_M            3272 non-null   uint8  \n",
            "dtypes: float64(7), int64(5), uint8(2)\n",
            "memory usage: 338.7 KB\n"
          ]
        }
      ]
    },
    {
      "cell_type": "code",
      "source": [
        "#Discription of Data\n",
        "data.describe(include='all')"
      ],
      "metadata": {
        "id": "2VhioNqzFVQ7",
        "colab": {
          "base_uri": "https://localhost:8080/",
          "height": 364
        },
        "outputId": "a3c99756-1efe-476b-b505-70904c1751b1"
      },
      "execution_count": 401,
      "outputs": [
        {
          "output_type": "execute_result",
          "data": {
            "text/plain": [
              "               age    education   cigsPerDay       BPMeds  prevalentStroke  \\\n",
              "count  3272.000000  3272.000000  3272.000000  3272.000000      3272.000000   \n",
              "mean     49.442237     1.973411     9.054095     0.029645         0.005807   \n",
              "std       8.559199     1.005440    11.866441     0.169633         0.075993   \n",
              "min      32.000000     1.000000     0.000000     0.000000         0.000000   \n",
              "25%      42.000000     1.000000     0.000000     0.000000         0.000000   \n",
              "50%      49.000000     2.000000     0.000000     0.000000         0.000000   \n",
              "75%      56.000000     3.000000    20.000000     0.000000         0.000000   \n",
              "max      70.000000     4.000000    70.000000     1.000000         1.000000   \n",
              "\n",
              "       prevalentHyp     diabetes      totChol        sysBP          BMI  \\\n",
              "count   3272.000000  3272.000000  3272.000000  3272.000000  3272.000000   \n",
              "mean       0.313264     0.025672   237.036675   132.409077    25.800339   \n",
              "std        0.463892     0.158180    45.114324    22.123491     4.123262   \n",
              "min        0.000000     0.000000   113.000000    83.500000    15.960000   \n",
              "25%        0.000000     0.000000   206.000000   117.000000    23.010000   \n",
              "50%        0.000000     0.000000   234.000000   128.000000    25.390000   \n",
              "75%        1.000000     0.000000   264.000000   143.625000    28.040000   \n",
              "max        1.000000     1.000000   696.000000   295.000000    56.800000   \n",
              "\n",
              "           glucose   TenYearCHD        sex_F        sex_M  \n",
              "count  3272.000000  3272.000000  3272.000000  3272.000000  \n",
              "mean     81.665954     0.149144     0.561430     0.438570  \n",
              "std      23.142282     0.356285     0.496288     0.496288  \n",
              "min      40.000000     0.000000     0.000000     0.000000  \n",
              "25%      72.000000     0.000000     0.000000     0.000000  \n",
              "50%      78.000000     0.000000     1.000000     0.000000  \n",
              "75%      85.000000     0.000000     1.000000     1.000000  \n",
              "max     394.000000     1.000000     1.000000     1.000000  "
            ],
            "text/html": [
              "\n",
              "  <div id=\"df-3bec094e-e1f8-463a-8d18-741fa3ec12e1\">\n",
              "    <div class=\"colab-df-container\">\n",
              "      <div>\n",
              "<style scoped>\n",
              "    .dataframe tbody tr th:only-of-type {\n",
              "        vertical-align: middle;\n",
              "    }\n",
              "\n",
              "    .dataframe tbody tr th {\n",
              "        vertical-align: top;\n",
              "    }\n",
              "\n",
              "    .dataframe thead th {\n",
              "        text-align: right;\n",
              "    }\n",
              "</style>\n",
              "<table border=\"1\" class=\"dataframe\">\n",
              "  <thead>\n",
              "    <tr style=\"text-align: right;\">\n",
              "      <th></th>\n",
              "      <th>age</th>\n",
              "      <th>education</th>\n",
              "      <th>cigsPerDay</th>\n",
              "      <th>BPMeds</th>\n",
              "      <th>prevalentStroke</th>\n",
              "      <th>prevalentHyp</th>\n",
              "      <th>diabetes</th>\n",
              "      <th>totChol</th>\n",
              "      <th>sysBP</th>\n",
              "      <th>BMI</th>\n",
              "      <th>glucose</th>\n",
              "      <th>TenYearCHD</th>\n",
              "      <th>sex_F</th>\n",
              "      <th>sex_M</th>\n",
              "    </tr>\n",
              "  </thead>\n",
              "  <tbody>\n",
              "    <tr>\n",
              "      <th>count</th>\n",
              "      <td>3272.000000</td>\n",
              "      <td>3272.000000</td>\n",
              "      <td>3272.000000</td>\n",
              "      <td>3272.000000</td>\n",
              "      <td>3272.000000</td>\n",
              "      <td>3272.000000</td>\n",
              "      <td>3272.000000</td>\n",
              "      <td>3272.000000</td>\n",
              "      <td>3272.000000</td>\n",
              "      <td>3272.000000</td>\n",
              "      <td>3272.000000</td>\n",
              "      <td>3272.000000</td>\n",
              "      <td>3272.000000</td>\n",
              "      <td>3272.000000</td>\n",
              "    </tr>\n",
              "    <tr>\n",
              "      <th>mean</th>\n",
              "      <td>49.442237</td>\n",
              "      <td>1.973411</td>\n",
              "      <td>9.054095</td>\n",
              "      <td>0.029645</td>\n",
              "      <td>0.005807</td>\n",
              "      <td>0.313264</td>\n",
              "      <td>0.025672</td>\n",
              "      <td>237.036675</td>\n",
              "      <td>132.409077</td>\n",
              "      <td>25.800339</td>\n",
              "      <td>81.665954</td>\n",
              "      <td>0.149144</td>\n",
              "      <td>0.561430</td>\n",
              "      <td>0.438570</td>\n",
              "    </tr>\n",
              "    <tr>\n",
              "      <th>std</th>\n",
              "      <td>8.559199</td>\n",
              "      <td>1.005440</td>\n",
              "      <td>11.866441</td>\n",
              "      <td>0.169633</td>\n",
              "      <td>0.075993</td>\n",
              "      <td>0.463892</td>\n",
              "      <td>0.158180</td>\n",
              "      <td>45.114324</td>\n",
              "      <td>22.123491</td>\n",
              "      <td>4.123262</td>\n",
              "      <td>23.142282</td>\n",
              "      <td>0.356285</td>\n",
              "      <td>0.496288</td>\n",
              "      <td>0.496288</td>\n",
              "    </tr>\n",
              "    <tr>\n",
              "      <th>min</th>\n",
              "      <td>32.000000</td>\n",
              "      <td>1.000000</td>\n",
              "      <td>0.000000</td>\n",
              "      <td>0.000000</td>\n",
              "      <td>0.000000</td>\n",
              "      <td>0.000000</td>\n",
              "      <td>0.000000</td>\n",
              "      <td>113.000000</td>\n",
              "      <td>83.500000</td>\n",
              "      <td>15.960000</td>\n",
              "      <td>40.000000</td>\n",
              "      <td>0.000000</td>\n",
              "      <td>0.000000</td>\n",
              "      <td>0.000000</td>\n",
              "    </tr>\n",
              "    <tr>\n",
              "      <th>25%</th>\n",
              "      <td>42.000000</td>\n",
              "      <td>1.000000</td>\n",
              "      <td>0.000000</td>\n",
              "      <td>0.000000</td>\n",
              "      <td>0.000000</td>\n",
              "      <td>0.000000</td>\n",
              "      <td>0.000000</td>\n",
              "      <td>206.000000</td>\n",
              "      <td>117.000000</td>\n",
              "      <td>23.010000</td>\n",
              "      <td>72.000000</td>\n",
              "      <td>0.000000</td>\n",
              "      <td>0.000000</td>\n",
              "      <td>0.000000</td>\n",
              "    </tr>\n",
              "    <tr>\n",
              "      <th>50%</th>\n",
              "      <td>49.000000</td>\n",
              "      <td>2.000000</td>\n",
              "      <td>0.000000</td>\n",
              "      <td>0.000000</td>\n",
              "      <td>0.000000</td>\n",
              "      <td>0.000000</td>\n",
              "      <td>0.000000</td>\n",
              "      <td>234.000000</td>\n",
              "      <td>128.000000</td>\n",
              "      <td>25.390000</td>\n",
              "      <td>78.000000</td>\n",
              "      <td>0.000000</td>\n",
              "      <td>1.000000</td>\n",
              "      <td>0.000000</td>\n",
              "    </tr>\n",
              "    <tr>\n",
              "      <th>75%</th>\n",
              "      <td>56.000000</td>\n",
              "      <td>3.000000</td>\n",
              "      <td>20.000000</td>\n",
              "      <td>0.000000</td>\n",
              "      <td>0.000000</td>\n",
              "      <td>1.000000</td>\n",
              "      <td>0.000000</td>\n",
              "      <td>264.000000</td>\n",
              "      <td>143.625000</td>\n",
              "      <td>28.040000</td>\n",
              "      <td>85.000000</td>\n",
              "      <td>0.000000</td>\n",
              "      <td>1.000000</td>\n",
              "      <td>1.000000</td>\n",
              "    </tr>\n",
              "    <tr>\n",
              "      <th>max</th>\n",
              "      <td>70.000000</td>\n",
              "      <td>4.000000</td>\n",
              "      <td>70.000000</td>\n",
              "      <td>1.000000</td>\n",
              "      <td>1.000000</td>\n",
              "      <td>1.000000</td>\n",
              "      <td>1.000000</td>\n",
              "      <td>696.000000</td>\n",
              "      <td>295.000000</td>\n",
              "      <td>56.800000</td>\n",
              "      <td>394.000000</td>\n",
              "      <td>1.000000</td>\n",
              "      <td>1.000000</td>\n",
              "      <td>1.000000</td>\n",
              "    </tr>\n",
              "  </tbody>\n",
              "</table>\n",
              "</div>\n",
              "      <button class=\"colab-df-convert\" onclick=\"convertToInteractive('df-3bec094e-e1f8-463a-8d18-741fa3ec12e1')\"\n",
              "              title=\"Convert this dataframe to an interactive table.\"\n",
              "              style=\"display:none;\">\n",
              "        \n",
              "  <svg xmlns=\"http://www.w3.org/2000/svg\" height=\"24px\"viewBox=\"0 0 24 24\"\n",
              "       width=\"24px\">\n",
              "    <path d=\"M0 0h24v24H0V0z\" fill=\"none\"/>\n",
              "    <path d=\"M18.56 5.44l.94 2.06.94-2.06 2.06-.94-2.06-.94-.94-2.06-.94 2.06-2.06.94zm-11 1L8.5 8.5l.94-2.06 2.06-.94-2.06-.94L8.5 2.5l-.94 2.06-2.06.94zm10 10l.94 2.06.94-2.06 2.06-.94-2.06-.94-.94-2.06-.94 2.06-2.06.94z\"/><path d=\"M17.41 7.96l-1.37-1.37c-.4-.4-.92-.59-1.43-.59-.52 0-1.04.2-1.43.59L10.3 9.45l-7.72 7.72c-.78.78-.78 2.05 0 2.83L4 21.41c.39.39.9.59 1.41.59.51 0 1.02-.2 1.41-.59l7.78-7.78 2.81-2.81c.8-.78.8-2.07 0-2.86zM5.41 20L4 18.59l7.72-7.72 1.47 1.35L5.41 20z\"/>\n",
              "  </svg>\n",
              "      </button>\n",
              "      \n",
              "  <style>\n",
              "    .colab-df-container {\n",
              "      display:flex;\n",
              "      flex-wrap:wrap;\n",
              "      gap: 12px;\n",
              "    }\n",
              "\n",
              "    .colab-df-convert {\n",
              "      background-color: #E8F0FE;\n",
              "      border: none;\n",
              "      border-radius: 50%;\n",
              "      cursor: pointer;\n",
              "      display: none;\n",
              "      fill: #1967D2;\n",
              "      height: 32px;\n",
              "      padding: 0 0 0 0;\n",
              "      width: 32px;\n",
              "    }\n",
              "\n",
              "    .colab-df-convert:hover {\n",
              "      background-color: #E2EBFA;\n",
              "      box-shadow: 0px 1px 2px rgba(60, 64, 67, 0.3), 0px 1px 3px 1px rgba(60, 64, 67, 0.15);\n",
              "      fill: #174EA6;\n",
              "    }\n",
              "\n",
              "    [theme=dark] .colab-df-convert {\n",
              "      background-color: #3B4455;\n",
              "      fill: #D2E3FC;\n",
              "    }\n",
              "\n",
              "    [theme=dark] .colab-df-convert:hover {\n",
              "      background-color: #434B5C;\n",
              "      box-shadow: 0px 1px 3px 1px rgba(0, 0, 0, 0.15);\n",
              "      filter: drop-shadow(0px 1px 2px rgba(0, 0, 0, 0.3));\n",
              "      fill: #FFFFFF;\n",
              "    }\n",
              "  </style>\n",
              "\n",
              "      <script>\n",
              "        const buttonEl =\n",
              "          document.querySelector('#df-3bec094e-e1f8-463a-8d18-741fa3ec12e1 button.colab-df-convert');\n",
              "        buttonEl.style.display =\n",
              "          google.colab.kernel.accessAllowed ? 'block' : 'none';\n",
              "\n",
              "        async function convertToInteractive(key) {\n",
              "          const element = document.querySelector('#df-3bec094e-e1f8-463a-8d18-741fa3ec12e1');\n",
              "          const dataTable =\n",
              "            await google.colab.kernel.invokeFunction('convertToInteractive',\n",
              "                                                     [key], {});\n",
              "          if (!dataTable) return;\n",
              "\n",
              "          const docLinkHtml = 'Like what you see? Visit the ' +\n",
              "            '<a target=\"_blank\" href=https://colab.research.google.com/notebooks/data_table.ipynb>data table notebook</a>'\n",
              "            + ' to learn more about interactive tables.';\n",
              "          element.innerHTML = '';\n",
              "          dataTable['output_type'] = 'display_data';\n",
              "          await google.colab.output.renderOutput(dataTable, element);\n",
              "          const docLink = document.createElement('div');\n",
              "          docLink.innerHTML = docLinkHtml;\n",
              "          element.appendChild(docLink);\n",
              "        }\n",
              "      </script>\n",
              "    </div>\n",
              "  </div>\n",
              "  "
            ]
          },
          "metadata": {},
          "execution_count": 401
        }
      ]
    },
    {
      "cell_type": "markdown",
      "source": [
        "# **Handling Missing Vaules**"
      ],
      "metadata": {
        "id": "yK7dg7cQFhF-"
      }
    },
    {
      "cell_type": "code",
      "source": [
        "# Missing Value Count Function\n",
        "def show_missing():\n",
        "    missing = data.columns[data.isnull().any()].tolist()\n",
        "    return missing\n",
        "\n",
        "# Missing data counts and percentage\n",
        "print('Missing Data Count')\n",
        "print(data[show_missing()].isnull().sum().sort_values(ascending = False))\n",
        "print('--'*50)\n",
        "print('Missing Data Percentage')\n",
        "print(round(data[show_missing()].isnull().sum().sort_values(ascending = False)/len(data)*100,2))"
      ],
      "metadata": {
        "id": "LicLQO6MFgIS",
        "colab": {
          "base_uri": "https://localhost:8080/"
        },
        "outputId": "8ab54f4b-7ef4-4cac-f914-7a8382b6a961"
      },
      "execution_count": 402,
      "outputs": [
        {
          "output_type": "stream",
          "name": "stdout",
          "text": [
            "Missing Data Count\n",
            "Series([], dtype: float64)\n",
            "----------------------------------------------------------------------------------------------------\n",
            "Missing Data Percentage\n",
            "Series([], dtype: float64)\n"
          ]
        }
      ]
    },
    {
      "cell_type": "code",
      "source": [
        "#data of null glucose values\n",
        "data[data['glucose'].isnull()].head()"
      ],
      "metadata": {
        "id": "WyU-7wEFGKLj",
        "colab": {
          "base_uri": "https://localhost:8080/",
          "height": 49
        },
        "outputId": "c25f70cc-8401-433e-b843-0d7eb23a64ed"
      },
      "execution_count": 403,
      "outputs": [
        {
          "output_type": "execute_result",
          "data": {
            "text/plain": [
              "Empty DataFrame\n",
              "Columns: [age, education, cigsPerDay, BPMeds, prevalentStroke, prevalentHyp, diabetes, totChol, sysBP, BMI, glucose, TenYearCHD, sex_F, sex_M]\n",
              "Index: []"
            ],
            "text/html": [
              "\n",
              "  <div id=\"df-8f609fe0-0bb9-41c3-8dbf-20b2520deb35\">\n",
              "    <div class=\"colab-df-container\">\n",
              "      <div>\n",
              "<style scoped>\n",
              "    .dataframe tbody tr th:only-of-type {\n",
              "        vertical-align: middle;\n",
              "    }\n",
              "\n",
              "    .dataframe tbody tr th {\n",
              "        vertical-align: top;\n",
              "    }\n",
              "\n",
              "    .dataframe thead th {\n",
              "        text-align: right;\n",
              "    }\n",
              "</style>\n",
              "<table border=\"1\" class=\"dataframe\">\n",
              "  <thead>\n",
              "    <tr style=\"text-align: right;\">\n",
              "      <th></th>\n",
              "      <th>age</th>\n",
              "      <th>education</th>\n",
              "      <th>cigsPerDay</th>\n",
              "      <th>BPMeds</th>\n",
              "      <th>prevalentStroke</th>\n",
              "      <th>prevalentHyp</th>\n",
              "      <th>diabetes</th>\n",
              "      <th>totChol</th>\n",
              "      <th>sysBP</th>\n",
              "      <th>BMI</th>\n",
              "      <th>glucose</th>\n",
              "      <th>TenYearCHD</th>\n",
              "      <th>sex_F</th>\n",
              "      <th>sex_M</th>\n",
              "    </tr>\n",
              "  </thead>\n",
              "  <tbody>\n",
              "  </tbody>\n",
              "</table>\n",
              "</div>\n",
              "      <button class=\"colab-df-convert\" onclick=\"convertToInteractive('df-8f609fe0-0bb9-41c3-8dbf-20b2520deb35')\"\n",
              "              title=\"Convert this dataframe to an interactive table.\"\n",
              "              style=\"display:none;\">\n",
              "        \n",
              "  <svg xmlns=\"http://www.w3.org/2000/svg\" height=\"24px\"viewBox=\"0 0 24 24\"\n",
              "       width=\"24px\">\n",
              "    <path d=\"M0 0h24v24H0V0z\" fill=\"none\"/>\n",
              "    <path d=\"M18.56 5.44l.94 2.06.94-2.06 2.06-.94-2.06-.94-.94-2.06-.94 2.06-2.06.94zm-11 1L8.5 8.5l.94-2.06 2.06-.94-2.06-.94L8.5 2.5l-.94 2.06-2.06.94zm10 10l.94 2.06.94-2.06 2.06-.94-2.06-.94-.94-2.06-.94 2.06-2.06.94z\"/><path d=\"M17.41 7.96l-1.37-1.37c-.4-.4-.92-.59-1.43-.59-.52 0-1.04.2-1.43.59L10.3 9.45l-7.72 7.72c-.78.78-.78 2.05 0 2.83L4 21.41c.39.39.9.59 1.41.59.51 0 1.02-.2 1.41-.59l7.78-7.78 2.81-2.81c.8-.78.8-2.07 0-2.86zM5.41 20L4 18.59l7.72-7.72 1.47 1.35L5.41 20z\"/>\n",
              "  </svg>\n",
              "      </button>\n",
              "      \n",
              "  <style>\n",
              "    .colab-df-container {\n",
              "      display:flex;\n",
              "      flex-wrap:wrap;\n",
              "      gap: 12px;\n",
              "    }\n",
              "\n",
              "    .colab-df-convert {\n",
              "      background-color: #E8F0FE;\n",
              "      border: none;\n",
              "      border-radius: 50%;\n",
              "      cursor: pointer;\n",
              "      display: none;\n",
              "      fill: #1967D2;\n",
              "      height: 32px;\n",
              "      padding: 0 0 0 0;\n",
              "      width: 32px;\n",
              "    }\n",
              "\n",
              "    .colab-df-convert:hover {\n",
              "      background-color: #E2EBFA;\n",
              "      box-shadow: 0px 1px 2px rgba(60, 64, 67, 0.3), 0px 1px 3px 1px rgba(60, 64, 67, 0.15);\n",
              "      fill: #174EA6;\n",
              "    }\n",
              "\n",
              "    [theme=dark] .colab-df-convert {\n",
              "      background-color: #3B4455;\n",
              "      fill: #D2E3FC;\n",
              "    }\n",
              "\n",
              "    [theme=dark] .colab-df-convert:hover {\n",
              "      background-color: #434B5C;\n",
              "      box-shadow: 0px 1px 3px 1px rgba(0, 0, 0, 0.15);\n",
              "      filter: drop-shadow(0px 1px 2px rgba(0, 0, 0, 0.3));\n",
              "      fill: #FFFFFF;\n",
              "    }\n",
              "  </style>\n",
              "\n",
              "      <script>\n",
              "        const buttonEl =\n",
              "          document.querySelector('#df-8f609fe0-0bb9-41c3-8dbf-20b2520deb35 button.colab-df-convert');\n",
              "        buttonEl.style.display =\n",
              "          google.colab.kernel.accessAllowed ? 'block' : 'none';\n",
              "\n",
              "        async function convertToInteractive(key) {\n",
              "          const element = document.querySelector('#df-8f609fe0-0bb9-41c3-8dbf-20b2520deb35');\n",
              "          const dataTable =\n",
              "            await google.colab.kernel.invokeFunction('convertToInteractive',\n",
              "                                                     [key], {});\n",
              "          if (!dataTable) return;\n",
              "\n",
              "          const docLinkHtml = 'Like what you see? Visit the ' +\n",
              "            '<a target=\"_blank\" href=https://colab.research.google.com/notebooks/data_table.ipynb>data table notebook</a>'\n",
              "            + ' to learn more about interactive tables.';\n",
              "          element.innerHTML = '';\n",
              "          dataTable['output_type'] = 'display_data';\n",
              "          await google.colab.output.renderOutput(dataTable, element);\n",
              "          const docLink = document.createElement('div');\n",
              "          docLink.innerHTML = docLinkHtml;\n",
              "          element.appendChild(docLink);\n",
              "        }\n",
              "      </script>\n",
              "    </div>\n",
              "  </div>\n",
              "  "
            ]
          },
          "metadata": {},
          "execution_count": 403
        }
      ]
    },
    {
      "cell_type": "code",
      "source": [
        "#Distribution Plot Of glucose\n",
        "sns.distplot(data.glucose.dropna())\n",
        "plt.title('Distribution Plot Of glucose')"
      ],
      "metadata": {
        "id": "ayM5Arq8GeH7",
        "colab": {
          "base_uri": "https://localhost:8080/",
          "height": 311
        },
        "outputId": "4199462f-2914-45b9-e193-912ac11d4a93"
      },
      "execution_count": 404,
      "outputs": [
        {
          "output_type": "execute_result",
          "data": {
            "text/plain": [
              "Text(0.5, 1.0, 'Distribution Plot Of glucose')"
            ]
          },
          "metadata": {},
          "execution_count": 404
        },
        {
          "output_type": "display_data",
          "data": {
            "text/plain": [
              "<Figure size 432x288 with 1 Axes>"
            ],
            "image/png": "[encoded data removed]"
          },
          "metadata": {
            "needs_background": "light"
          }
        }
      ]
    },
    {
      "cell_type": "code",
      "source": [
        "#median of glucose\n",
        "data.glucose.median()"
      ],
      "metadata": {
        "id": "8ciox5fDTJ9r",
        "colab": {
          "base_uri": "https://localhost:8080/"
        },
        "outputId": "4b7a2bcf-7b30-42b1-e389-01725e22559b"
      },
      "execution_count": 405,
      "outputs": [
        {
          "output_type": "execute_result",
          "data": {
            "text/plain": [
              "78.0"
            ]
          },
          "metadata": {},
          "execution_count": 405
        }
      ]
    },
    {
      "cell_type": "code",
      "source": [
        "#Fill NaN Values in glucose Column with Median\n",
        "data['glucose'] =data['glucose'].fillna(data['glucose'].median())"
      ],
      "metadata": {
        "id": "nYBFH2z2TXXz"
      },
      "execution_count": 406,
      "outputs": []
    },
    {
      "cell_type": "code",
      "source": [
        "#Distribution Plot Of education\n",
        "sns.distplot(data.education.dropna())\n",
        "plt.title('Distribution Plot Of education')"
      ],
      "metadata": {
        "id": "tSjka1iQTq0G",
        "colab": {
          "base_uri": "https://localhost:8080/",
          "height": 311
        },
        "outputId": "a6fdc510-d533-44e4-887b-81d67702c20b"
      },
      "execution_count": 407,
      "outputs": [
        {
          "output_type": "execute_result",
          "data": {
            "text/plain": [
              "Text(0.5, 1.0, 'Distribution Plot Of education')"
            ]
          },
          "metadata": {},
          "execution_count": 407
        },
        {
          "output_type": "display_data",
          "data": {
            "text/plain": [
              "<Figure size 432x288 with 1 Axes>"
            ],
            "image/png": "[encoded data removed]"
          },
          "metadata": {
            "needs_background": "light"
          }
        }
      ]
    },
    {
      "cell_type": "code",
      "source": [
        "#Fill NaN Values in glucose Column with Median\n",
        "data['education'] =data['education'].fillna(data['education'].median())"
      ],
      "metadata": {
        "id": "2YKfbMa9UStC"
      },
      "execution_count": 408,
      "outputs": []
    },
    {
      "cell_type": "code",
      "source": [
        "# Missing Value Count Function\n",
        "def show_missing():\n",
        "    missing = data.columns[data.isnull().any()].tolist()\n",
        "    return missing\n",
        "\n",
        "# Missing data counts and percentage\n",
        "print('Missing Data Count')\n",
        "print(data[show_missing()].isnull().sum().sort_values(ascending = False))\n",
        "print('--'*50)\n",
        "print('Missing Data Percentage')\n",
        "print(round(data[show_missing()].isnull().sum().sort_values(ascending = False)/len(data)*100,2))"
      ],
      "metadata": {
        "id": "zjKxegHxTh2Y",
        "colab": {
          "base_uri": "https://localhost:8080/"
        },
        "outputId": "af208ea9-f7e4-45e3-a286-7b356fcbf025"
      },
      "execution_count": 409,
      "outputs": [
        {
          "output_type": "stream",
          "name": "stdout",
          "text": [
            "Missing Data Count\n",
            "Series([], dtype: float64)\n",
            "----------------------------------------------------------------------------------------------------\n",
            "Missing Data Percentage\n",
            "Series([], dtype: float64)\n"
          ]
        }
      ]
    },
    {
      "cell_type": "code",
      "source": [
        "#Dropping null as they are now negligible \n",
        "data.dropna(inplace=True)"
      ],
      "metadata": {
        "id": "vdmhSm9uUjwX"
      },
      "execution_count": 410,
      "outputs": []
    },
    {
      "cell_type": "code",
      "source": [
        "data.info()"
      ],
      "metadata": {
        "id": "FrZFWHN5UnHL",
        "colab": {
          "base_uri": "https://localhost:8080/"
        },
        "outputId": "391ea8a6-26fa-4f32-b822-d330e330abd9"
      },
      "execution_count": 411,
      "outputs": [
        {
          "output_type": "stream",
          "name": "stdout",
          "text": [
            "<class 'pandas.core.frame.DataFrame'>\n",
            "Int64Index: 3272 entries, 1 to 3389\n",
            "Data columns (total 14 columns):\n",
            " #   Column           Non-Null Count  Dtype  \n",
            "---  ------           --------------  -----  \n",
            " 0   age              3272 non-null   int64  \n",
            " 1   education        3272 non-null   float64\n",
            " 2   cigsPerDay       3272 non-null   float64\n",
            " 3   BPMeds           3272 non-null   float64\n",
            " 4   prevalentStroke  3272 non-null   int64  \n",
            " 5   prevalentHyp     3272 non-null   int64  \n",
            " 6   diabetes         3272 non-null   int64  \n",
            " 7   totChol          3272 non-null   float64\n",
            " 8   sysBP            3272 non-null   float64\n",
            " 9   BMI              3272 non-null   float64\n",
            " 10  glucose          3272 non-null   float64\n",
            " 11  TenYearCHD       3272 non-null   int64  \n",
            " 12  sex_F            3272 non-null   uint8  \n",
            " 13  sex_M            3272 non-null   uint8  \n",
            "dtypes: float64(7), int64(5), uint8(2)\n",
            "memory usage: 338.7 KB\n"
          ]
        }
      ]
    },
    {
      "cell_type": "code",
      "source": [
        "#Numerical features\n",
        "numerical=['age','cigsPerDay','totChol','sysBP','diaBP','BMI','heartRate','glucose']"
      ],
      "metadata": {
        "id": "8l6jeZ3bVf-8"
      },
      "execution_count": 412,
      "outputs": []
    },
    {
      "cell_type": "code",
      "source": [
        "#Boxplot and distribution plot of numerical features\n",
        "for var in numerical:\n",
        "    plt.figure(figsize=(15,6))\n",
        "    plt.subplot(1, 2, 1)\n",
        "    fig = sns.boxplot(y=data[var])\n",
        "    fig.set_title('')\n",
        "    fig.set_ylabel(var)\n",
        "    \n",
        "    plt.subplot(1, 2, 2)\n",
        "    fig = sns.distplot(data[var].dropna())\n",
        "    fig.set_ylabel('')\n",
        "    fig.set_xlabel(var)\n",
        "\n",
        "    plt.show()"
      ],
      "metadata": {
        "id": "3cdF4XVVWYFy",
        "colab": {
          "base_uri": "https://localhost:8080/",
          "height": 1000
        },
        "outputId": "8bb5ecf9-2d20-41ef-93a4-0ac24c9bac01"
      },
      "execution_count": 413,
      "outputs": [
        {
          "output_type": "display_data",
          "data": {
            "text/plain": [
              "<Figure size 1080x432 with 2 Axes>"
            ],
            "image/png": "[encoded data removed]"
          },
          "metadata": {
            "needs_background": "light"
          }
        },
        {
          "output_type": "display_data",
          "data": {
            "text/plain": [
              "<Figure size 1080x432 with 2 Axes>"
            ],
            "image/png": "[encoded data removed]"
          },
          "metadata": {
            "needs_background": "light"
          }
        },
        {
          "output_type": "display_data",
          "data": {
            "text/plain": [
              "<Figure size 1080x432 with 2 Axes>"
            ],
            "image/png": "[encoded data removed]"
          },
          "metadata": {
            "needs_background": "light"
          }
        },
        {
          "output_type": "display_data",
          "data": {
            "text/plain": [
              "<Figure size 1080x432 with 2 Axes>"
            ],
            "image/png": "[encoded data removed]"
          },
          "metadata": {
            "needs_background": "light"
          }
        },
        {
          "output_type": "error",
          "ename": "KeyError",
          "evalue": "ignored",
          "traceback": [
            "\u001b[0;31m---------------------------------------------------------------------------\u001b[0m",
            "\u001b[0;31mKeyError\u001b[0m                                  Traceback (most recent call last)",
            "\u001b[0;32m/usr/local/lib/python3.7/dist-packages/pandas/core/indexes/base.py\u001b[0m in \u001b[0;36mget_loc\u001b[0;34m(self, key, method, tolerance)\u001b[0m\n\u001b[1;32m   3360\u001b[0m             \u001b[0;32mtry\u001b[0m\u001b[0;34m:\u001b[0m\u001b[0;34m\u001b[0m\u001b[0;34m\u001b[0m\u001b[0m\n\u001b[0;32m-> 3361\u001b[0;31m                 \u001b[0;32mreturn\u001b[0m \u001b[0mself\u001b[0m\u001b[0;34m.\u001b[0m\u001b[0m_engine\u001b[0m\u001b[0;34m.\u001b[0m\u001b[0mget_loc\u001b[0m\u001b[0;34m(\u001b[0m\u001b[0mcasted_key\u001b[0m\u001b[0;34m)\u001b[0m\u001b[0;34m\u001b[0m\u001b[0;34m\u001b[0m\u001b[0m\n\u001b[0m\u001b[1;32m   3362\u001b[0m             \u001b[0;32mexcept\u001b[0m \u001b[0mKeyError\u001b[0m \u001b[0;32mas\u001b[0m \u001b[0merr\u001b[0m\u001b[0;34m:\u001b[0m\u001b[0;34m\u001b[0m\u001b[0;34m\u001b[0m\u001b[0m\n",
            "\u001b[0;32m/usr/local/lib/python3.7/dist-packages/pandas/_libs/index.pyx\u001b[0m in \u001b[0;36mpandas._libs.index.IndexEngine.get_loc\u001b[0;34m()\u001b[0m\n",
            "\u001b[0;32m/usr/local/lib/python3.7/dist-packages/pandas/_libs/index.pyx\u001b[0m in \u001b[0;36mpandas._libs.index.IndexEngine.get_loc\u001b[0;34m()\u001b[0m\n",
            "\u001b[0;32mpandas/_libs/hashtable_class_helper.pxi\u001b[0m in \u001b[0;36mpandas._libs.hashtable.PyObjectHashTable.get_item\u001b[0;34m()\u001b[0m\n",
            "\u001b[0;32mpandas/_libs/hashtable_class_helper.pxi\u001b[0m in \u001b[0;36mpandas._libs.hashtable.PyObjectHashTable.get_item\u001b[0;34m()\u001b[0m\n",
            "\u001b[0;31mKeyError\u001b[0m: 'diaBP'",
            "\nThe above exception was the direct cause of the following exception:\n",
            "\u001b[0;31mKeyError\u001b[0m                                  Traceback (most recent call last)",
            "\u001b[0;32m<ipython-input-413-bd81c1897208>\u001b[0m in \u001b[0;36m<module>\u001b[0;34m\u001b[0m\n\u001b[1;32m      3\u001b[0m     \u001b[0mplt\u001b[0m\u001b[0;34m.\u001b[0m\u001b[0mfigure\u001b[0m\u001b[0;34m(\u001b[0m\u001b[0mfigsize\u001b[0m\u001b[0;34m=\u001b[0m\u001b[0;34m(\u001b[0m\u001b[0;36m15\u001b[0m\u001b[0;34m,\u001b[0m\u001b[0;36m6\u001b[0m\u001b[0;34m)\u001b[0m\u001b[0;34m)\u001b[0m\u001b[0;34m\u001b[0m\u001b[0;34m\u001b[0m\u001b[0m\n\u001b[1;32m      4\u001b[0m     \u001b[0mplt\u001b[0m\u001b[0;34m.\u001b[0m\u001b[0msubplot\u001b[0m\u001b[0;34m(\u001b[0m\u001b[0;36m1\u001b[0m\u001b[0;34m,\u001b[0m \u001b[0;36m2\u001b[0m\u001b[0;34m,\u001b[0m \u001b[0;36m1\u001b[0m\u001b[0;34m)\u001b[0m\u001b[0;34m\u001b[0m\u001b[0;34m\u001b[0m\u001b[0m\n\u001b[0;32m----> 5\u001b[0;31m     \u001b[0mfig\u001b[0m \u001b[0;34m=\u001b[0m \u001b[0msns\u001b[0m\u001b[0;34m.\u001b[0m\u001b[0mboxplot\u001b[0m\u001b[0;34m(\u001b[0m\u001b[0my\u001b[0m\u001b[0;34m=\u001b[0m\u001b[0mdata\u001b[0m\u001b[0;34m[\u001b[0m\u001b[0mvar\u001b[0m\u001b[0;34m]\u001b[0m\u001b[0;34m)\u001b[0m\u001b[0;34m\u001b[0m\u001b[0;34m\u001b[0m\u001b[0m\n\u001b[0m\u001b[1;32m      6\u001b[0m     \u001b[0mfig\u001b[0m\u001b[0;34m.\u001b[0m\u001b[0mset_title\u001b[0m\u001b[0;34m(\u001b[0m\u001b[0;34m''\u001b[0m\u001b[0;34m)\u001b[0m\u001b[0;34m\u001b[0m\u001b[0;34m\u001b[0m\u001b[0m\n\u001b[1;32m      7\u001b[0m     \u001b[0mfig\u001b[0m\u001b[0;34m.\u001b[0m\u001b[0mset_ylabel\u001b[0m\u001b[0;34m(\u001b[0m\u001b[0mvar\u001b[0m\u001b[0;34m)\u001b[0m\u001b[0;34m\u001b[0m\u001b[0;34m\u001b[0m\u001b[0m\n",
            "\u001b[0;32m/usr/local/lib/python3.7/dist-packages/pandas/core/frame.py\u001b[0m in \u001b[0;36m__getitem__\u001b[0;34m(self, key)\u001b[0m\n\u001b[1;32m   3456\u001b[0m             \u001b[0;32mif\u001b[0m \u001b[0mself\u001b[0m\u001b[0;34m.\u001b[0m\u001b[0mcolumns\u001b[0m\u001b[0;34m.\u001b[0m\u001b[0mnlevels\u001b[0m \u001b[0;34m>\u001b[0m \u001b[0;36m1\u001b[0m\u001b[0;34m:\u001b[0m\u001b[0;34m\u001b[0m\u001b[0;34m\u001b[0m\u001b[0m\n\u001b[1;32m   3457\u001b[0m                 \u001b[0;32mreturn\u001b[0m \u001b[0mself\u001b[0m\u001b[0;34m.\u001b[0m\u001b[0m_getitem_multilevel\u001b[0m\u001b[0;34m(\u001b[0m\u001b[0mkey\u001b[0m\u001b[0;34m)\u001b[0m\u001b[0;34m\u001b[0m\u001b[0;34m\u001b[0m\u001b[0m\n\u001b[0;32m-> 3458\u001b[0;31m             \u001b[0mindexer\u001b[0m \u001b[0;34m=\u001b[0m \u001b[0mself\u001b[0m\u001b[0;34m.\u001b[0m\u001b[0mcolumns\u001b[0m\u001b[0;34m.\u001b[0m\u001b[0mget_loc\u001b[0m\u001b[0;34m(\u001b[0m\u001b[0mkey\u001b[0m\u001b[0;34m)\u001b[0m\u001b[0;34m\u001b[0m\u001b[0;34m\u001b[0m\u001b[0m\n\u001b[0m\u001b[1;32m   3459\u001b[0m             \u001b[0;32mif\u001b[0m \u001b[0mis_integer\u001b[0m\u001b[0;34m(\u001b[0m\u001b[0mindexer\u001b[0m\u001b[0;34m)\u001b[0m\u001b[0;34m:\u001b[0m\u001b[0;34m\u001b[0m\u001b[0;34m\u001b[0m\u001b[0m\n\u001b[1;32m   3460\u001b[0m                 \u001b[0mindexer\u001b[0m \u001b[0;34m=\u001b[0m \u001b[0;34m[\u001b[0m\u001b[0mindexer\u001b[0m\u001b[0;34m]\u001b[0m\u001b[0;34m\u001b[0m\u001b[0;34m\u001b[0m\u001b[0m\n",
            "\u001b[0;32m/usr/local/lib/python3.7/dist-packages/pandas/core/indexes/base.py\u001b[0m in \u001b[0;36mget_loc\u001b[0;34m(self, key, method, tolerance)\u001b[0m\n\u001b[1;32m   3361\u001b[0m                 \u001b[0;32mreturn\u001b[0m \u001b[0mself\u001b[0m\u001b[0;34m.\u001b[0m\u001b[0m_engine\u001b[0m\u001b[0;34m.\u001b[0m\u001b[0mget_loc\u001b[0m\u001b[0;34m(\u001b[0m\u001b[0mcasted_key\u001b[0m\u001b[0;34m)\u001b[0m\u001b[0;34m\u001b[0m\u001b[0;34m\u001b[0m\u001b[0m\n\u001b[1;32m   3362\u001b[0m             \u001b[0;32mexcept\u001b[0m \u001b[0mKeyError\u001b[0m \u001b[0;32mas\u001b[0m \u001b[0merr\u001b[0m\u001b[0;34m:\u001b[0m\u001b[0;34m\u001b[0m\u001b[0;34m\u001b[0m\u001b[0m\n\u001b[0;32m-> 3363\u001b[0;31m                 \u001b[0;32mraise\u001b[0m \u001b[0mKeyError\u001b[0m\u001b[0;34m(\u001b[0m\u001b[0mkey\u001b[0m\u001b[0;34m)\u001b[0m \u001b[0;32mfrom\u001b[0m \u001b[0merr\u001b[0m\u001b[0;34m\u001b[0m\u001b[0;34m\u001b[0m\u001b[0m\n\u001b[0m\u001b[1;32m   3364\u001b[0m \u001b[0;34m\u001b[0m\u001b[0m\n\u001b[1;32m   3365\u001b[0m         \u001b[0;32mif\u001b[0m \u001b[0mis_scalar\u001b[0m\u001b[0;34m(\u001b[0m\u001b[0mkey\u001b[0m\u001b[0;34m)\u001b[0m \u001b[0;32mand\u001b[0m \u001b[0misna\u001b[0m\u001b[0;34m(\u001b[0m\u001b[0mkey\u001b[0m\u001b[0;34m)\u001b[0m \u001b[0;32mand\u001b[0m \u001b[0;32mnot\u001b[0m \u001b[0mself\u001b[0m\u001b[0;34m.\u001b[0m\u001b[0mhasnans\u001b[0m\u001b[0;34m:\u001b[0m\u001b[0;34m\u001b[0m\u001b[0;34m\u001b[0m\u001b[0m\n",
            "\u001b[0;31mKeyError\u001b[0m: 'diaBP'"
          ]
        },
        {
          "output_type": "display_data",
          "data": {
            "text/plain": [
              "<Figure size 1080x432 with 1 Axes>"
            ],
            "image/png": "[encoded data removed]"
          },
          "metadata": {
            "needs_background": "light"
          }
        }
      ]
    },
    {
      "cell_type": "markdown",
      "source": [
        "**We can see outliers are present in our data but We are not them as we have less data**"
      ],
      "metadata": {
        "id": "c-rtyv2BXHl5"
      }
    },
    {
      "cell_type": "markdown",
      "source": [
        "smote remained to used and also converting features into categorical and combining related feature is remained"
      ],
      "metadata": {
        "id": "b617hLIU9Ukl"
      }
    },
    {
      "cell_type": "markdown",
      "source": [
        "# **EDA**"
      ],
      "metadata": {
        "id": "g95_FZFk9mjT"
      }
    },
    {
      "cell_type": "markdown",
      "source": [
        "## **Univariate Analysis**"
      ],
      "metadata": {
        "id": "tkHRd98aEQiR"
      }
    },
    {
      "cell_type": "markdown",
      "source": [
        "***Barplot Of Age Distribution***"
      ],
      "metadata": {
        "id": "0mtSBo5oF7xX"
      }
    },
    {
      "cell_type": "code",
      "source": [
        "#barplot of age and its counts \n",
        "plt.figure(figsize=(20,7))\n",
        "sns.countplot(x = data['age'])\n",
        "plt.title('Age Wise Distribution',fontsize=15)\n",
        "plt.grid()\n",
        "plt.show()"
      ],
      "metadata": {
        "id": "BknbqgI2EbIJ"
      },
      "execution_count": null,
      "outputs": []
    },
    {
      "cell_type": "markdown",
      "source": [
        "***Barplot Of Education Distribution***"
      ],
      "metadata": {
        "id": "rjia62XrGGJK"
      }
    },
    {
      "cell_type": "code",
      "source": [
        "#barplot of education and its counts \n",
        "plt.figure(figsize=(12,7))\n",
        "sns.countplot(x = data['education'])\n",
        "plt.title('Education Wise Distribution',fontsize=15)\n",
        "plt.grid()\n",
        "plt.show()"
      ],
      "metadata": {
        "id": "QMvITFs6F5TB"
      },
      "execution_count": null,
      "outputs": []
    },
    {
      "cell_type": "markdown",
      "source": [
        "***Pieplot of Male And Female %***"
      ],
      "metadata": {
        "id": "oLQwYX1hoPE2"
      }
    },
    {
      "cell_type": "code",
      "source": [
        "#Percentage Count Of Male And female\n",
        "plt.figure(figsize=(10,7))\n",
        "plt.pie(data['sex'].value_counts(),labels=['M','F'],autopct='%.0f%%',explode=[0.03,0])\n",
        "plt.title('Percentage Of Male And Female')\n",
        "plt.show()"
      ],
      "metadata": {
        "id": "mH-7DAcjGFiZ"
      },
      "execution_count": null,
      "outputs": []
    },
    {
      "cell_type": "markdown",
      "source": [
        "***Barh Plot Of is_smoking Value Counts***"
      ],
      "metadata": {
        "id": "olQgwk77ooH3"
      }
    },
    {
      "cell_type": "code",
      "source": [
        "#Categories of Top 50 Install Apps\n",
        "data['is_smoking'].value_counts().plot(kind=\"barh\")\n",
        "plt.title(\"is_smoking counts\",fontsize=20)\n",
        "plt.ylabel(\"is_smoking\")\n",
        "plt.xlabel(\"Count\")\n",
        "plt.grid()"
      ],
      "metadata": {
        "id": "BoX56dxXK7U6"
      },
      "execution_count": null,
      "outputs": []
    },
    {
      "cell_type": "markdown",
      "source": [
        "***Distribution plot of numerical features***"
      ],
      "metadata": {
        "id": "zwWOC3ROo8zf"
      }
    },
    {
      "cell_type": "code",
      "source": [
        "#Distribution plot of numerical features\n",
        "for var in numerical:\n",
        "    plt.figure(figsize=(20,5))\n",
        "    plt.subplot(1, 2, 2)\n",
        "    fig = sns.distplot(data[var].dropna(),color=\"brown\",fit=norm)\n",
        "    plt.grid()\n",
        "    fig.set_ylabel('count')\n",
        "    fig.set_xlabel(var)\n",
        "\n",
        "    plt.show()"
      ],
      "metadata": {
        "id": "ybYXYcQzF5Nx"
      },
      "execution_count": null,
      "outputs": []
    },
    {
      "cell_type": "markdown",
      "source": [
        "## **Bivariate Analysis**"
      ],
      "metadata": {
        "id": "Q2FInkEBc-Sq"
      }
    },
    {
      "cell_type": "markdown",
      "source": [
        "***Count Plot Of Age And Ten Year CHD***"
      ],
      "metadata": {
        "id": "zJ4Kr1jJpYye"
      }
    },
    {
      "cell_type": "code",
      "source": [
        "#Value Counts Of Two Variable Age And Ten Year CHD\n",
        "plt.rcParams['figure.figsize'] = (40,10)\n",
        "plt.subplot(1, 2, 2)\n",
        "fig = sns.countplot(x=data['age'],hue=data['TenYearCHD'],palette=\"Set2\")\n",
        "#plt.xticks(rotation=90, horizontalalignment=\"center\")\n",
        "plt.grid()\n",
        "fig.set_ylabel('count')\n",
        "fig.set_xlabel('age')\n",
        "plt.title(\"Value Counts Of Two Variable Age And Ten Year CHD\",fontsize=20)\n",
        "\n",
        "plt.show()"
      ],
      "metadata": {
        "id": "EtA28IHOF5FB"
      },
      "execution_count": null,
      "outputs": []
    },
    {
      "cell_type": "markdown",
      "source": [
        "From above plot we can see that as the age increases ***proportion*** of people having CHD is increases"
      ],
      "metadata": {
        "id": "WsAAmWTkRM7i"
      }
    },
    {
      "cell_type": "markdown",
      "source": [
        "***Count Plot Of Sex And Ten Year CHD***"
      ],
      "metadata": {
        "id": "g__2zPbdpmFu"
      }
    },
    {
      "cell_type": "code",
      "source": [
        "#Value Counts Of Two Variable Sex And Ten Year CHD\n",
        "plt.rcParams['figure.figsize'] = (20,7)\n",
        "plt.subplot(1, 2, 2)\n",
        "fig = sns.countplot(y=data['sex'],hue=data['TenYearCHD'],palette=\"Set3\")\n",
        "#plt.xticks(rotation=90, horizontalalignment=\"center\")\n",
        "plt.grid()\n",
        "fig.set_xlabel('count')\n",
        "fig.set_ylabel('Sex')\n",
        "plt.title(\"Value Counts Of Two Variable Sex And Ten Year CHD\",fontsize=20)\n",
        "\n",
        "plt.show()"
      ],
      "metadata": {
        "id": "QpMfi7wegYGk"
      },
      "execution_count": null,
      "outputs": []
    },
    {
      "cell_type": "markdown",
      "source": [
        "**We can see that proportion of male having CHD is more than female** "
      ],
      "metadata": {
        "id": "omaSZOM_RyuE"
      }
    },
    {
      "cell_type": "markdown",
      "source": [
        "***Count Plot Of is_smoking And Ten Year CHD***"
      ],
      "metadata": {
        "id": "A6DP9psDppJG"
      }
    },
    {
      "cell_type": "code",
      "source": [
        "#Value Counts Of Two Variable is_smoking And Ten Year CHD\n",
        "plt.rcParams['figure.figsize'] = (20,7)\n",
        "plt.subplot(1, 2, 2)\n",
        "fig = sns.countplot(x=data['is_smoking'],hue=data['TenYearCHD'],palette=\"Set1\")\n",
        "#plt.xticks(rotation=90, horizontalalignment=\"center\")\n",
        "plt.grid()\n",
        "fig.set_ylabel('count')\n",
        "fig.set_xlabel('is_smoking')\n",
        "plt.title(\"Value Counts Of Two Variable is_smoking And Ten Year CHD\",fontsize=20)\n",
        "\n",
        "plt.show()"
      ],
      "metadata": {
        "id": "mcUqLF8jgzv_"
      },
      "execution_count": null,
      "outputs": []
    },
    {
      "cell_type": "markdown",
      "source": [
        "**Proportion of smokers having CHD is slighlty more than non smokers**"
      ],
      "metadata": {
        "id": "W4cixe-ISXjc"
      }
    },
    {
      "cell_type": "markdown",
      "source": [
        "***Count Plot Of prevalentHyp And Ten Year CHD***"
      ],
      "metadata": {
        "id": "iWjQ5j1Eput2"
      }
    },
    {
      "cell_type": "code",
      "source": [
        "#Value Counts Of Two Variable prevalentHyp And Ten Year CHD\n",
        "plt.rcParams['figure.figsize'] = (20,7)\n",
        "plt.subplot(1, 2, 2)\n",
        "fig = sns.countplot(y=data['prevalentHyp'],hue=data['TenYearCHD'],facecolor=(0, 0, 0, 0),\n",
        "                   linewidth=5,\n",
        "                   edgecolor=sns.color_palette(\"dark\", 3))\n",
        "#plt.xticks(rotation=90, horizontalalignment=\"center\")\n",
        "plt.grid()\n",
        "fig.set_xlabel('count')\n",
        "fig.set_ylabel('prevalentHyp')\n",
        "plt.title(\"Value Counts Of Two Variable prevalentHyp And Ten Year CHD\",fontsize=20)\n",
        "\n",
        "plt.show()"
      ],
      "metadata": {
        "id": "QJEguTORiC7m"
      },
      "execution_count": null,
      "outputs": []
    },
    {
      "cell_type": "markdown",
      "source": [
        "**proportion of prevalentHyp people having CHD is larger than non prevalentHyp people** "
      ],
      "metadata": {
        "id": "jSCWTppkSt4E"
      }
    },
    {
      "cell_type": "markdown",
      "source": [
        "##**Finding correlation in variables (both dependent and independent)**"
      ],
      "metadata": {
        "id": "TdIGuFutlrGH"
      }
    },
    {
      "cell_type": "code",
      "source": [
        "#Correlation Heatmap\n",
        "plt.figure(figsize = (20,10))\n",
        "sns.heatmap(data.corr(), annot= True)\n",
        "plt.title(\"Correlation Heatmap\",fontsize=20)"
      ],
      "metadata": {
        "id": "v1ZMedAOlqaJ"
      },
      "execution_count": null,
      "outputs": []
    },
    {
      "cell_type": "markdown",
      "source": [
        "**There is 78% positive correlation in sysBP and diaBP** \n",
        "\n",
        "**The top number is the maximum pressure the heart exerts while beating (systolic pressure). The bottom number is the amount of pressure in the arteries between beats (diastolic pressure).**\n",
        "\n",
        "**so we will drop column diaBP as diaBP is less correlated with TenYearCHD compared to sysBP**"
      ],
      "metadata": {
        "id": "wcWvboah0Olm"
      }
    },
    {
      "cell_type": "code",
      "source": [
        "#drop column diaBP\n",
        "data.drop(columns=['diaBP'],axis=1,inplace=True)"
      ],
      "metadata": {
        "id": "OjXyf1so04mv"
      },
      "execution_count": null,
      "outputs": []
    },
    {
      "cell_type": "markdown",
      "source": [
        "**heartrate is having very less correlation with TenYearCHD so we will drop it**"
      ],
      "metadata": {
        "id": "PfNc5P6OBnLz"
      }
    },
    {
      "cell_type": "code",
      "source": [
        "#drop column heartRate\n",
        "data.drop(columns=['heartRate'],axis=1,inplace=True)"
      ],
      "metadata": {
        "id": "Tw-rH8evBsel"
      },
      "execution_count": null,
      "outputs": []
    },
    {
      "cell_type": "code",
      "source": [
        "#drop column id as it is of no use\n",
        "data.drop(columns=['id'],axis=1,inplace=True)"
      ],
      "metadata": {
        "id": "GjAExW5mIo-k"
      },
      "execution_count": null,
      "outputs": []
    },
    {
      "cell_type": "markdown",
      "source": [
        "*cigsPerday have detailed information about smokers and non smokers so we can drop is_smoking column*"
      ],
      "metadata": {
        "id": "4K2doPrR_N4y"
      }
    },
    {
      "cell_type": "code",
      "source": [
        "#drop column is_smoking\n",
        "data.drop(columns=['is_smoking'],axis=1,inplace=True)"
      ],
      "metadata": {
        "id": "5BCyeBUN_k4v"
      },
      "execution_count": null,
      "outputs": []
    },
    {
      "cell_type": "markdown",
      "source": [
        "*Converting categorical variable Sex in to dummy variable*"
      ],
      "metadata": {
        "id": "rKaeFEQq_3OI"
      }
    },
    {
      "cell_type": "code",
      "source": [
        "#dummy variable from sex column\n",
        "data= pd.get_dummies(data, columns=['sex'])"
      ],
      "metadata": {
        "id": "7PVU0nSk_tJx"
      },
      "execution_count": null,
      "outputs": []
    },
    {
      "cell_type": "code",
      "source": [
        "#dependant variable\n",
        "Y=data['TenYearCHD']\n",
        "\n",
        "#independant variable\n",
        "df=data.copy()\n",
        "df.drop(columns=['TenYearCHD'],axis=1,inplace=True)\n",
        "X=df"
      ],
      "metadata": {
        "id": "aJvhyDubJG7E"
      },
      "execution_count": null,
      "outputs": []
    },
    {
      "cell_type": "code",
      "source": [
        "# visualize the target variable\n",
        "g = sns.countplot(data['TenYearCHD'])\n",
        "g.set_xticklabels(['yes','no'])\n",
        "plt.show()"
      ],
      "metadata": {
        "id": "aKwVyMurGu2N"
      },
      "execution_count": null,
      "outputs": []
    },
    {
      "cell_type": "markdown",
      "source": [
        "**As data is imbalance we will use Synthetic Minority Oversampling Technique, or SMOTE for short.**"
      ],
      "metadata": {
        "id": "1a7MXyD0G-bc"
      }
    },
    {
      "cell_type": "markdown",
      "source": [
        "## **SMOTE**"
      ],
      "metadata": {
        "id": "p3_DIUg0TPii"
      }
    },
    {
      "cell_type": "code",
      "source": [
        "# fit predictor and target variable\n",
        "smote = SMOTE()\n",
        "x_smote, y_smote = smote.fit_resample(X, Y)\n",
        "\n",
        "print('Original dataset shape', len(data))\n",
        "print('Resampled dataset shape', len(y_smote))"
      ],
      "metadata": {
        "id": "CmSNubtFHh2r"
      },
      "execution_count": null,
      "outputs": []
    },
    {
      "cell_type": "code",
      "source": [
        "# visualize the target variable\n",
        "g = sns.countplot(y_smote)\n",
        "g.set_xticklabels(['yes','no'])\n",
        "plt.show()"
      ],
      "metadata": {
        "id": "VWjbeN1EKd7G"
      },
      "execution_count": null,
      "outputs": []
    },
    {
      "cell_type": "markdown",
      "source": [
        "## **Feature** **Standardization**"
      ],
      "metadata": {
        "id": "M3w7h7tDTXeP"
      }
    },
    {
      "cell_type": "code",
      "source": [
        "#StandardScaler- Standardize features by removing the mean and scaling to unit variance.\n",
        "# Transforming data\n",
        "scaler = StandardScaler()\n",
        "x_smote = scaler.fit_transform(x_smote)"
      ],
      "metadata": {
        "id": "AtpDz21HMhpS"
      },
      "execution_count": null,
      "outputs": []
    },
    {
      "cell_type": "markdown",
      "source": [
        "## **Train Test Split**"
      ],
      "metadata": {
        "id": "_6Wtd1Y6To26"
      }
    },
    {
      "cell_type": "code",
      "source": [
        "# Splitting the dataset into the Training set and Test set\n",
        "X_train, X_test, y_train, y_test = train_test_split(x_smote, y_smote, test_size = 0.30, random_state = 10)"
      ],
      "metadata": {
        "id": "DNlIlJNiT21t"
      },
      "execution_count": null,
      "outputs": []
    },
    {
      "cell_type": "markdown",
      "source": [
        "# **Logistic**"
      ],
      "metadata": {
        "id": "4OIOeSzy25Wo"
      }
    },
    {
      "cell_type": "code",
      "source": [
        "# Instantiation\n",
        "logistic= LogisticRegression(fit_intercept=True, max_iter=10000)\n",
        "# Fitting the model\n",
        "logistic.fit(X_train, y_train)"
      ],
      "metadata": {
        "id": "DYvSN610OLlp"
      },
      "execution_count": null,
      "outputs": []
    },
    {
      "cell_type": "code",
      "source": [
        "# Predicting the results\n",
        "y_pred_train =logistic.predict(X_train)\n",
        "y_pred_test =logistic.predict(X_test)\n",
        "y_pred_l=logistic.predict(X_test)"
      ],
      "metadata": {
        "id": "-XY29QUCXm-n"
      },
      "execution_count": null,
      "outputs": []
    },
    {
      "cell_type": "code",
      "source": [
        "#Evaluation \n",
        "Accuracy_train_l= accuracy_score(y_train,y_pred_train)\n",
        "Accuracy_test_l= accuracy_score(y_test,y_pred_test)\n",
        "roc_auc_score_train_l= roc_auc_score(y_train,y_pred_train)\n",
        "roc_auc_score_test_l= roc_auc_score(y_test,y_pred_test)\n",
        "precision_l= precision_score(y_test, y_pred_test, average='weighted')\n",
        "recall_l=recall_score(y_test, y_pred_test, average='weighted')\n",
        "f1_score_l=f1_score(y_test,y_pred_test, average='weighted')"
      ],
      "metadata": {
        "id": "bZIhiB9pwD47"
      },
      "execution_count": null,
      "outputs": []
    },
    {
      "cell_type": "code",
      "source": [
        "#confusion_matrix\n",
        "cm = confusion_matrix(y_test, y_pred_test)\n",
        "print(cm)\n",
        "ax= plt.subplot()\n",
        "sns.heatmap(cm, annot=True, ax = ax); #annot=True to annotate cells\n",
        "ax.set_xlabel('Predicted labels',fontsize=15)\n",
        "ax.set_ylabel('True labels',fontsize=15)\n",
        "ax.set_title('Confusion Matrix',fontsize=20)\n",
        "\n"
      ],
      "metadata": {
        "id": "jRqnuBmap7D8"
      },
      "execution_count": null,
      "outputs": []
    },
    {
      "cell_type": "code",
      "source": [
        "#Classification report\n",
        "print(classification_report(y_test, y_pred_test))"
      ],
      "metadata": {
        "id": "mc-JfK08wRiI"
      },
      "execution_count": null,
      "outputs": []
    },
    {
      "cell_type": "markdown",
      "source": [
        "## **Logistic with hyperparameter tuning**"
      ],
      "metadata": {
        "id": "gcwfv6g0NwGF"
      }
    },
    {
      "cell_type": "code",
      "source": [
        "#reference- geeksforgeeks\n",
        "# Necessary imports\n",
        "from sklearn.linear_model import LogisticRegression\n",
        "from sklearn.model_selection import GridSearchCV\n",
        " \n",
        "# Creating the hyperparameter grid\n",
        "c_space = np.logspace(-5, 8, 15)\n",
        "param_grid = {'C': c_space}\n",
        " \n",
        "# Instantiating logistic regression classifier\n",
        "logreg = LogisticRegression()\n",
        " \n",
        "# Instantiating the GridSearchCV object\n",
        "logreg_cv = GridSearchCV(logreg, param_grid, cv = 5)\n",
        " \n",
        "logistic_h=logreg_cv.fit(X_train, y_train)"
      ],
      "metadata": {
        "id": "PXn_BnguNvfd"
      },
      "execution_count": null,
      "outputs": []
    },
    {
      "cell_type": "code",
      "source": [
        "# Predicting the results\n",
        "y_pred_train =logistic_h.predict(X_train)\n",
        "y_pred_test =logistic_h.predict(X_test)"
      ],
      "metadata": {
        "id": "304AUattQaNJ"
      },
      "execution_count": null,
      "outputs": []
    },
    {
      "cell_type": "code",
      "source": [
        "#Evaluation\n",
        "Accuracy_train_lh= accuracy_score(y_train,y_pred_train)\n",
        "Accuracy_test_lh= accuracy_score(y_test,y_pred_test)\n",
        "roc_auc_score_train_lh= roc_auc_score(y_train,y_pred_train)\n",
        "roc_auc_score_test_lh= roc_auc_score(y_test,y_pred_test)\n",
        "precision_lh= precision_score(y_test, y_pred_test, average='weighted')\n",
        "recall_lh=recall_score(y_test, y_pred_test, average='weighted')\n",
        "f1_score_lh=f1_score(y_test,y_pred_test, average='weighted')"
      ],
      "metadata": {
        "id": "myZhOSsxrI92"
      },
      "execution_count": null,
      "outputs": []
    },
    {
      "cell_type": "code",
      "source": [],
      "metadata": {
        "id": "fUoQmf6AUmxX"
      },
      "execution_count": null,
      "outputs": []
    },
    {
      "cell_type": "code",
      "source": [
        "#confusion_matrix\n",
        "cm = confusion_matrix(y_test, y_pred_test)\n",
        "print(cm)\n",
        "ax= plt.subplot()\n",
        "sns.heatmap(cm, annot=True, ax = ax); #annot=True to annotate cells\n",
        "ax.set_xlabel('Predicted labels',fontsize=15)\n",
        "ax.set_ylabel('True labels',fontsize=15)\n",
        "ax.set_title('Confusion Matrix',fontsize=20)"
      ],
      "metadata": {
        "id": "dAFwAA2ADWpM"
      },
      "execution_count": null,
      "outputs": []
    },
    {
      "cell_type": "code",
      "source": [
        "#Classification report\n",
        "print(classification_report(y_test, y_pred_test))"
      ],
      "metadata": {
        "id": "1xsWDwSLDWk_"
      },
      "execution_count": null,
      "outputs": []
    },
    {
      "cell_type": "markdown",
      "source": [
        "#  **Decision Tree**"
      ],
      "metadata": {
        "id": "tr8Aa6er3IZt"
      }
    },
    {
      "cell_type": "code",
      "source": [
        "# Instantiation\n",
        "Tree= DecisionTreeClassifier()\n",
        "# Fitting the model\n",
        "Tree.fit(X_train, y_train)"
      ],
      "metadata": {
        "id": "Lc6xS_5E3Xjc"
      },
      "execution_count": null,
      "outputs": []
    },
    {
      "cell_type": "code",
      "source": [
        "# Predicting the results\n",
        "y_pred_train =Tree.predict(X_train)\n",
        "y_pred_test =Tree.predict(X_test)\n",
        "y_pred_t =Tree.predict(X_test)"
      ],
      "metadata": {
        "id": "HnnlQV8D3mTj"
      },
      "execution_count": null,
      "outputs": []
    },
    {
      "cell_type": "code",
      "source": [
        "#Evaluation\n",
        "Accuracy_train_t= accuracy_score(y_train,y_pred_train)\n",
        "Accuracy_test_t= accuracy_score(y_test,y_pred_test)\n",
        "roc_auc_score_train_t= roc_auc_score(y_train,y_pred_train)\n",
        "roc_auc_score_test_t= roc_auc_score(y_test,y_pred_test)\n",
        "precision_t= precision_score(y_test, y_pred_test, average='weighted')\n",
        "recall_t=recall_score(y_test, y_pred_test, average='weighted')\n",
        "f1_score_t=f1_score(y_test,y_pred_test, average='weighted')"
      ],
      "metadata": {
        "id": "O9Jauz4nrSQ_"
      },
      "execution_count": null,
      "outputs": []
    },
    {
      "cell_type": "code",
      "source": [
        "#confusion_matrix\n",
        "cm = confusion_matrix(y_test, y_pred_test)\n",
        "print(cm)\n",
        "ax= plt.subplot()\n",
        "sns.heatmap(cm, annot=True, ax = ax); #annot=True to annotate cells\n",
        "ax.set_xlabel('Predicted labels',fontsize=15)\n",
        "ax.set_ylabel('True labels',fontsize=15)\n",
        "ax.set_title('Confusion Matrix',fontsize=20)"
      ],
      "metadata": {
        "id": "WwqlsT6dD34O"
      },
      "execution_count": null,
      "outputs": []
    },
    {
      "cell_type": "code",
      "source": [
        "#Classification Report\n",
        "print(classification_report(y_test,y_pred_test))"
      ],
      "metadata": {
        "id": "H1Vuk0m21jxB"
      },
      "execution_count": null,
      "outputs": []
    },
    {
      "cell_type": "code",
      "source": [
        "pd.DataFrame(X_train,columns=['age', 'education', 'cigsPerDay', 'BPMeds', 'prevalentStroke','prevalentHyp', 'diabetes', 'totChol', 'sysBP', 'BMI', 'glucose','sex_F', 'sex_M'] )"
      ],
      "metadata": {
        "id": "3MBQIZcdXYHc"
      },
      "execution_count": null,
      "outputs": []
    },
    {
      "cell_type": "code",
      "source": [
        "#storing features and there importance\n",
        "features = X.columns\n",
        "importances = Tree.feature_importances_\n",
        "indices = np.argsort(importances)"
      ],
      "metadata": {
        "id": "OWI5tCtuYLli"
      },
      "execution_count": null,
      "outputs": []
    },
    {
      "cell_type": "code",
      "source": [
        "#barh plot of features and there importance\n",
        "plt.figure(figsize=(20,10))\n",
        "plt.title('Feature Importance')\n",
        "plt.barh(range(len(indices)), importances[indices], align='center')\n",
        "plt.yticks(range(len(indices)), [features[i] for i in indices])\n",
        "plt.xlabel('Relative Importance')\n",
        "plt.grid()\n",
        "plt.show()"
      ],
      "metadata": {
        "id": "AHZJ5oVsVl4l"
      },
      "execution_count": null,
      "outputs": []
    },
    {
      "cell_type": "markdown",
      "source": [
        "##**Decision Tree with hyperparameter tuning**"
      ],
      "metadata": {
        "id": "v5RT_SBIRw-P"
      }
    },
    {
      "cell_type": "code",
      "source": [
        "#fiting Decision Tree with hyperparameter tuning\n",
        "tree_para = {'criterion':['gini','entropy'],'max_depth':[4,5,6,7,8,9,10,11,12,15,20,30,40,50,70,90,120,150]}\n",
        "Tree_h = GridSearchCV(Tree, tree_para, cv=5)\n",
        "Tree_h.fit(X_train, y_train)"
      ],
      "metadata": {
        "id": "loUDn-dzQ5hi"
      },
      "execution_count": null,
      "outputs": []
    },
    {
      "cell_type": "code",
      "source": [
        "# Predicting the results\n",
        "y_pred_train =Tree_h.predict(X_train)\n",
        "y_pred_test =Tree_h.predict(X_test)"
      ],
      "metadata": {
        "id": "3QkjfzFaSJbM"
      },
      "execution_count": null,
      "outputs": []
    },
    {
      "cell_type": "code",
      "source": [
        "#Evaluation\n",
        "Accuracy_train_th= accuracy_score(y_train,y_pred_train)\n",
        "Accuracy_test_th= accuracy_score(y_test,y_pred_test)\n",
        "roc_auc_score_train_th= roc_auc_score(y_train,y_pred_train)\n",
        "roc_auc_score_test_th= roc_auc_score(y_test,y_pred_test)\n",
        "precision_th= precision_score(y_test, y_pred_test, average='weighted')\n",
        "recall_th=recall_score(y_test, y_pred_test, average='weighted')\n",
        "f1_score_th=f1_score(y_test,y_pred_test, average='weighted')"
      ],
      "metadata": {
        "id": "6rY3RWDtrcIE"
      },
      "execution_count": null,
      "outputs": []
    },
    {
      "cell_type": "code",
      "source": [
        "#confusion_matrix\n",
        "cm = confusion_matrix(y_test, y_pred_test)\n",
        "print(cm)\n",
        "ax= plt.subplot()\n",
        "sns.heatmap(cm, annot=True, ax = ax); #annot=True to annotate cells\n",
        "ax.set_xlabel('Predicted labels',fontsize=15)\n",
        "ax.set_ylabel('True labels',fontsize=15)\n",
        "ax.set_title('Confusion Matrix',fontsize=20)"
      ],
      "metadata": {
        "id": "qF95h270EJyN"
      },
      "execution_count": null,
      "outputs": []
    },
    {
      "cell_type": "code",
      "source": [
        "#Classification Report\n",
        "print(classification_report(y_test,y_pred_test))"
      ],
      "metadata": {
        "id": "gnxHPigdEJuQ"
      },
      "execution_count": null,
      "outputs": []
    },
    {
      "cell_type": "markdown",
      "source": [
        "# **Random Forest**"
      ],
      "metadata": {
        "id": "ksCFz_fd5nSF"
      }
    },
    {
      "cell_type": "code",
      "source": [
        "# Instantiation\n",
        "forest= RandomForestClassifier(n_estimators=200,max_depth=20)\n",
        "# Fitting the model\n",
        "forest.fit(X_train, y_train)"
      ],
      "metadata": {
        "id": "F1dZZif77F0S"
      },
      "execution_count": null,
      "outputs": []
    },
    {
      "cell_type": "code",
      "source": [
        "# Predicting the results\n",
        "y_pred_train =forest.predict(X_train)\n",
        "y_pred_test =forest.predict(X_test)\n",
        "y_pred_f =forest.predict(X_test)"
      ],
      "metadata": {
        "id": "VC_i8mDD7aWu"
      },
      "execution_count": null,
      "outputs": []
    },
    {
      "cell_type": "code",
      "source": [
        "#Evaluation\n",
        "Accuracy_train_r= accuracy_score(y_train,y_pred_train)\n",
        "Accuracy_test_r= accuracy_score(y_test,y_pred_test)\n",
        "roc_auc_score_train_r= roc_auc_score(y_train,y_pred_train)\n",
        "roc_auc_score_test_r= roc_auc_score(y_test,y_pred_test)\n",
        "precision_r= precision_score(y_test, y_pred_test, average='weighted')\n",
        "recall_r=recall_score(y_test, y_pred_test, average='weighted')\n",
        "f1_score_r=f1_score(y_test,y_pred_test, average='weighted')"
      ],
      "metadata": {
        "id": "g1d1uU9VrjC4"
      },
      "execution_count": null,
      "outputs": []
    },
    {
      "cell_type": "code",
      "source": [
        "#confusion_matrix\n",
        "cm = confusion_matrix(y_test, y_pred_test)\n",
        "print(cm)\n",
        "ax= plt.subplot()\n",
        "sns.heatmap(cm, annot=True, ax = ax); #annot=True to annotate cells\n",
        "ax.set_xlabel('Predicted labels',fontsize=15)\n",
        "ax.set_ylabel('True labels',fontsize=15)\n",
        "ax.set_title('Confusion Matrix',fontsize=20)"
      ],
      "metadata": {
        "id": "z0g19f6FE9QZ"
      },
      "execution_count": null,
      "outputs": []
    },
    {
      "cell_type": "code",
      "source": [
        "#Classification Report\n",
        "print(classification_report(y_test,y_pred_test))"
      ],
      "metadata": {
        "id": "cPCDkw4YE9N5"
      },
      "execution_count": null,
      "outputs": []
    },
    {
      "cell_type": "markdown",
      "source": [
        "## **Random Forest with hyperparameter tuning**"
      ],
      "metadata": {
        "id": "qJ1B6xZUSkrX"
      }
    },
    {
      "cell_type": "code",
      "source": [
        "#Random Forest with hyperparameter tuning\n",
        "param_grid = {\n",
        "    'n_estimators': [200, 700],\n",
        "    'max_features': ['sqrt']\n",
        "}\n",
        "\n",
        "forest_h = GridSearchCV(forest, param_grid=param_grid, cv= 5)\n",
        "# Fitting the model\n",
        "forest_h.fit(X_train, y_train)\n"
      ],
      "metadata": {
        "id": "0OMSYPGkS6Ck"
      },
      "execution_count": null,
      "outputs": []
    },
    {
      "cell_type": "code",
      "source": [
        "# Predicting the results\n",
        "y_pred_train =forest_h.predict(X_train)\n",
        "y_pred_test =forest_h.predict(X_test)"
      ],
      "metadata": {
        "id": "yHkpwUxnTHY6"
      },
      "execution_count": null,
      "outputs": []
    },
    {
      "cell_type": "code",
      "source": [
        "#Evaluation\n",
        "Accuracy_train_rh= accuracy_score(y_train,y_pred_train)\n",
        "Accuracy_test_rh= accuracy_score(y_test,y_pred_test)\n",
        "roc_auc_score_train_rh= roc_auc_score(y_train,y_pred_train)\n",
        "roc_auc_score_test_rh= roc_auc_score(y_test,y_pred_test)\n",
        "precision_rh= precision_score(y_test, y_pred_test, average='weighted')\n",
        "recall_rh=recall_score(y_test, y_pred_test, average='weighted')\n",
        "f1_score_rh=f1_score(y_test,y_pred_test, average='weighted')"
      ],
      "metadata": {
        "id": "ku46VXOgrtAS"
      },
      "execution_count": null,
      "outputs": []
    },
    {
      "cell_type": "code",
      "source": [
        "#confusion_matrix\n",
        "cm = confusion_matrix(y_test, y_pred_test)\n",
        "print(cm)\n",
        "ax= plt.subplot()\n",
        "sns.heatmap(cm, annot=True, ax = ax); #annot=True to annotate cells\n",
        "ax.set_xlabel('Predicted labels',fontsize=15)\n",
        "ax.set_ylabel('True labels',fontsize=15)\n",
        "ax.set_title('Confusion Matrix',fontsize=20)"
      ],
      "metadata": {
        "id": "lZ-KwqQoE29M"
      },
      "execution_count": null,
      "outputs": []
    },
    {
      "cell_type": "code",
      "source": [
        "#Classification Report\n",
        "print(classification_report(y_test,y_pred_test))"
      ],
      "metadata": {
        "id": "ws7zM6f-E259"
      },
      "execution_count": null,
      "outputs": []
    },
    {
      "cell_type": "markdown",
      "source": [
        "# **XG Boost**"
      ],
      "metadata": {
        "id": "3EPUB59L872G"
      }
    },
    {
      "cell_type": "code",
      "source": [
        "\n",
        "# Instantiation\n",
        "xgb = xg.XGBClassifier()\n",
        "\n",
        " \n",
        "# Fitting the model\n",
        "xgb.fit(X_train, y_train)\n"
      ],
      "metadata": {
        "id": "LoIarAXA9JX-"
      },
      "execution_count": null,
      "outputs": []
    },
    {
      "cell_type": "code",
      "source": [
        "# Predicting the results\n",
        "y_pred_train =xgb.predict(X_train)\n",
        "y_pred_test =xgb.predict(X_test)\n",
        "y_pred_x =xgb.predict(X_test)"
      ],
      "metadata": {
        "id": "4SRg1fJ49Uad"
      },
      "execution_count": null,
      "outputs": []
    },
    {
      "cell_type": "code",
      "source": [
        "#Evaluation\n",
        "Accuracy_train_x= accuracy_score(y_train,y_pred_train)\n",
        "Accuracy_test_x= accuracy_score(y_test,y_pred_test)\n",
        "roc_auc_score_train_x= roc_auc_score(y_train,y_pred_train)\n",
        "roc_auc_score_test_x= roc_auc_score(y_test,y_pred_test)\n",
        "precision_x= precision_score(y_test, y_pred_test, average='weighted')\n",
        "recall_x=recall_score(y_test, y_pred_test, average='weighted')\n",
        "f1_score_x=f1_score(y_test,y_pred_test, average='weighted')"
      ],
      "metadata": {
        "id": "MM2X53dXr2cj"
      },
      "execution_count": null,
      "outputs": []
    },
    {
      "cell_type": "code",
      "source": [
        "#confusion_matrix\n",
        "cm = confusion_matrix(y_test, y_pred_test)\n",
        "print(cm)\n",
        "ax= plt.subplot()\n",
        "sns.heatmap(cm, annot=True, ax = ax); #annot=True to annotate cells\n",
        "ax.set_xlabel('Predicted labels',fontsize=15)\n",
        "ax.set_ylabel('True labels',fontsize=15)\n",
        "ax.set_title('Confusion Matrix',fontsize=20)"
      ],
      "metadata": {
        "id": "vKc4dIRVGIAB"
      },
      "execution_count": null,
      "outputs": []
    },
    {
      "cell_type": "code",
      "source": [
        "#Classification Report\n",
        "print(classification_report(y_test,y_pred_test))"
      ],
      "metadata": {
        "id": "mmLy0cb3GH8N"
      },
      "execution_count": null,
      "outputs": []
    },
    {
      "cell_type": "markdown",
      "source": [
        "## **XGBoost with hyperparameter tuning**"
      ],
      "metadata": {
        "id": "b2C3pd4vTx_n"
      }
    },
    {
      "cell_type": "code",
      "source": [
        "#Grid Search CV\n",
        "grid_values = {'n_estimators':[50, 80,  100, 150], 'max_depth':[3, 5, 7,10]}\n",
        "xgb_h = GridSearchCV(xgb, param_grid = grid_values, cv=5)\n",
        "# Fitting the model\n",
        "xgb_h.fit(X_train, y_train)"
      ],
      "metadata": {
        "id": "mzwQhEnK7goU"
      },
      "execution_count": null,
      "outputs": []
    },
    {
      "cell_type": "code",
      "source": [
        "# Predicting the results\n",
        "y_pred_train =xgb_h.predict(X_train)\n",
        "y_pred_test =xgb_h.predict(X_test)"
      ],
      "metadata": {
        "id": "Hix3ylVwUsja"
      },
      "execution_count": null,
      "outputs": []
    },
    {
      "cell_type": "code",
      "source": [
        "#Evaluation\n",
        "Accuracy_train_xh= accuracy_score(y_train,y_pred_train)\n",
        "Accuracy_test_xh= accuracy_score(y_test,y_pred_test)\n",
        "roc_auc_score_train_xh= roc_auc_score(y_train,y_pred_train)\n",
        "roc_auc_score_test_xh= roc_auc_score(y_test,y_pred_test)\n",
        "precision_xh= precision_score(y_test, y_pred_test, average='weighted')\n",
        "recall_xh=recall_score(y_test, y_pred_test, average='weighted')\n",
        "f1_score_xh=f1_score(y_test,y_pred_test, average='weighted')"
      ],
      "metadata": {
        "id": "J0QGm8IRr-Yq"
      },
      "execution_count": null,
      "outputs": []
    },
    {
      "cell_type": "code",
      "source": [
        "#confusion_matrix\n",
        "cm = confusion_matrix(y_test, y_pred_test)\n",
        "print(cm)\n",
        "ax= plt.subplot()\n",
        "sns.heatmap(cm, annot=True, ax = ax); #annot=True to annotate cells\n",
        "ax.set_xlabel('Predicted labels',fontsize=15)\n",
        "ax.set_ylabel('True labels',fontsize=15)\n",
        "ax.set_title('Confusion Matrix',fontsize=20)"
      ],
      "metadata": {
        "id": "Lt1umL3xGShE"
      },
      "execution_count": null,
      "outputs": []
    },
    {
      "cell_type": "code",
      "source": [
        "#Classification Report\n",
        "print(classification_report(y_test,y_pred_test))"
      ],
      "metadata": {
        "id": "NhTyqE4gGVYZ"
      },
      "execution_count": null,
      "outputs": []
    },
    {
      "cell_type": "markdown",
      "source": [
        "# **KNN**"
      ],
      "metadata": {
        "id": "gZCUtWixzSst"
      }
    },
    {
      "cell_type": "code",
      "source": [
        "# Import KNeighborsClassifier\n",
        "from sklearn.neighbors import KNeighborsClassifier\n",
        "\n",
        "#Setup arrays to store training and test accuracies\n",
        "neighbors = np.arange(1,15)\n",
        "train_accuracy =np.empty(len(neighbors))\n",
        "test_accuracy = np.empty(len(neighbors))\n",
        "\n",
        "for i,k in enumerate(neighbors):\n",
        "    # Setup a knn classifier with k neighbors\n",
        "    knn = KNeighborsClassifier(n_neighbors=k)\n",
        "    \n",
        "    # Fit the model\n",
        "    knn.fit(X_train, y_train)\n",
        "    \n",
        "    # Compute accuracy on the training set\n",
        "    train_accuracy[i] = knn.score(X_train, y_train)\n",
        "    \n",
        "    # Compute accuracy on the test set\n",
        "    test_accuracy[i] = knn.score(X_test, y_test) "
      ],
      "metadata": {
        "id": "5SJUVW4Exb_-"
      },
      "execution_count": null,
      "outputs": []
    },
    {
      "cell_type": "code",
      "source": [
        "# Generate plot\n",
        "plt.title('k-NN Varying number of neighbors')\n",
        "plt.plot(neighbors, test_accuracy, label='Testing Accuracy')\n",
        "plt.plot(neighbors, train_accuracy, label='Training accuracy')\n",
        "plt.legend()\n",
        "plt.xlabel('Number of neighbors')\n",
        "plt.ylabel('Accuracy')\n",
        "plt.show()"
      ],
      "metadata": {
        "id": "325ywCtrzkk9"
      },
      "execution_count": null,
      "outputs": []
    },
    {
      "cell_type": "code",
      "source": [
        "# Setup a knn classifier with k neighbors\n",
        "knn = KNeighborsClassifier(algorithm='auto', leaf_size=30, metric='minkowski',\n",
        "                     metric_params=None, n_jobs=None, n_neighbors=2, p=2,\n",
        "                     weights='uniform')"
      ],
      "metadata": {
        "id": "11V2YD_h0GDf"
      },
      "execution_count": null,
      "outputs": []
    },
    {
      "cell_type": "code",
      "source": [
        "# Fit the model\n",
        "knn.fit(X_train,y_train)"
      ],
      "metadata": {
        "id": "eMw7PzqQ0h3g"
      },
      "execution_count": null,
      "outputs": []
    },
    {
      "cell_type": "code",
      "source": [
        "# Predicting the results\n",
        "y_pred_train =knn.predict(X_train)\n",
        "y_pred_test =knn.predict(X_test)\n",
        "y_pred_k =knn.predict(X_test)"
      ],
      "metadata": {
        "id": "qJuqyjOlsLeG"
      },
      "execution_count": null,
      "outputs": []
    },
    {
      "cell_type": "code",
      "source": [
        "#Evaluation\n",
        "Accuracy_train_k= accuracy_score(y_train,y_pred_train)\n",
        "Accuracy_test_k= accuracy_score(y_test,y_pred_test)\n",
        "roc_auc_score_train_k= roc_auc_score(y_train,y_pred_train)\n",
        "roc_auc_score_test_k= roc_auc_score(y_test,y_pred_test)\n",
        "precision_k= precision_score(y_test, y_pred_test, average='weighted')\n",
        "recall_k=recall_score(y_test, y_pred_test, average='weighted')\n",
        "f1_score_k=f1_score(y_test,y_pred_test, average='weighted')"
      ],
      "metadata": {
        "id": "l6AbSHW2sOTO"
      },
      "execution_count": null,
      "outputs": []
    },
    {
      "cell_type": "code",
      "source": [
        "#confusion_matrix\n",
        "cm = confusion_matrix(y_test, y_pred_test)\n",
        "print(cm)\n",
        "ax= plt.subplot()\n",
        "sns.heatmap(cm, annot=True, ax = ax); #annot=True to annotate cells\n",
        "ax.set_xlabel('Predicted labels',fontsize=15)\n",
        "ax.set_ylabel('True labels',fontsize=15)\n",
        "ax.set_title('Confusion Matrix',fontsize=20)"
      ],
      "metadata": {
        "id": "0rbI0cErGeg8"
      },
      "execution_count": null,
      "outputs": []
    },
    {
      "cell_type": "code",
      "source": [
        "#Classification Report\n",
        "print(classification_report(y_test,y_pred_test))"
      ],
      "metadata": {
        "id": "WYvQPlNsGhNJ"
      },
      "execution_count": null,
      "outputs": []
    },
    {
      "cell_type": "markdown",
      "source": [
        "##**knn with hyperparameter tuning**"
      ],
      "metadata": {
        "id": "rpzkGtbZVTZq"
      }
    },
    {
      "cell_type": "code",
      "source": [
        "#parameters\n",
        "k_range = list(range(1, 7))\n",
        "param_grid = dict(n_neighbors=k_range)\n",
        "  \n",
        "# defining parameter range\n",
        "knn_h= GridSearchCV(knn, param_grid, cv=10, scoring='accuracy', return_train_score=False,verbose=1)\n",
        "  \n",
        "# fitting the model for grid search\n",
        "knn_h.fit(X_train,y_train)"
      ],
      "metadata": {
        "id": "DzfACvye9aQR"
      },
      "execution_count": null,
      "outputs": []
    },
    {
      "cell_type": "code",
      "source": [
        "# Predicting the results\n",
        "y_pred_train =knn.predict(X_train)\n",
        "y_pred_test =knn.predict(X_test)"
      ],
      "metadata": {
        "id": "um79DunRsy06"
      },
      "execution_count": null,
      "outputs": []
    },
    {
      "cell_type": "code",
      "source": [
        "#Evaluation\n",
        "Accuracy_train_kh= accuracy_score(y_train,y_pred_train)\n",
        "Accuracy_test_kh= accuracy_score(y_test,y_pred_test)\n",
        "roc_auc_score_train_kh= roc_auc_score(y_train,y_pred_train)\n",
        "roc_auc_score_test_kh= roc_auc_score(y_test,y_pred_test)\n",
        "precision_kh= precision_score(y_test, y_pred_test, average='weighted')\n",
        "recall_kh=recall_score(y_test, y_pred_test, average='weighted')\n",
        "f1_score_kh=f1_score(y_test,y_pred_test, average='weighted')"
      ],
      "metadata": {
        "id": "g8bKvxsOs1HJ"
      },
      "execution_count": null,
      "outputs": []
    },
    {
      "cell_type": "code",
      "source": [
        "#confusion_matrix\n",
        "cm = confusion_matrix(y_test, y_pred_test)\n",
        "print(cm)\n",
        "ax= plt.subplot()\n",
        "sns.heatmap(cm, annot=True, ax = ax); #annot=True to annotate cells\n",
        "ax.set_xlabel('Predicted labels',fontsize=15)\n",
        "ax.set_ylabel('True labels',fontsize=15)\n",
        "ax.set_title('Confusion Matrix',fontsize=20)"
      ],
      "metadata": {
        "id": "SD5I3zBeGvHF"
      },
      "execution_count": null,
      "outputs": []
    },
    {
      "cell_type": "code",
      "source": [
        "#Classification Report\n",
        "print(classification_report(y_test,y_pred_test))"
      ],
      "metadata": {
        "id": "JqbTi_tAGvDk"
      },
      "execution_count": null,
      "outputs": []
    },
    {
      "cell_type": "markdown",
      "source": [
        "# **Naive Bayes Classifier**"
      ],
      "metadata": {
        "id": "opTcOB3F2uN0"
      }
    },
    {
      "cell_type": "code",
      "source": [
        "# Fit the model\n",
        "naive_bayes= GaussianNB()\n",
        "naive_bayes.fit(X_train,y_train)"
      ],
      "metadata": {
        "id": "i4bbrK3o63qV"
      },
      "execution_count": null,
      "outputs": []
    },
    {
      "cell_type": "code",
      "source": [
        "# Predicting the results\n",
        "y_pred_train =naive_bayes.predict(X_train)\n",
        "y_pred_test =naive_bayes.predict(X_test)\n",
        "y_pred_n =naive_bayes.predict(X_test)"
      ],
      "metadata": {
        "id": "UzL_wsWh7XdX"
      },
      "execution_count": null,
      "outputs": []
    },
    {
      "cell_type": "code",
      "source": [
        "#Evaluation\n",
        "Accuracy_train_n= accuracy_score(y_train,y_pred_train)\n",
        "Accuracy_test_n= accuracy_score(y_test,y_pred_test)\n",
        "roc_auc_score_train_n= roc_auc_score(y_train,y_pred_train)\n",
        "roc_auc_score_test_n= roc_auc_score(y_test,y_pred_test)\n",
        "precision_n= precision_score(y_test, y_pred_test, average='weighted')\n",
        "recall_n=recall_score(y_test, y_pred_test, average='weighted')\n",
        "f1_score_n=f1_score(y_test,y_pred_test, average='weighted')"
      ],
      "metadata": {
        "id": "P5OaECCctFo1"
      },
      "execution_count": null,
      "outputs": []
    },
    {
      "cell_type": "code",
      "source": [
        "#confusion_matrix\n",
        "cm = confusion_matrix(y_test, y_pred_test)\n",
        "print(cm)\n",
        "ax= plt.subplot()\n",
        "sns.heatmap(cm, annot=True, ax = ax); #annot=True to annotate cells\n",
        "ax.set_xlabel('Predicted labels',fontsize=15)\n",
        "ax.set_ylabel('True labels',fontsize=15)\n",
        "ax.set_title('Confusion Matrix',fontsize=20)"
      ],
      "metadata": {
        "id": "ePUjC8vHG57I"
      },
      "execution_count": null,
      "outputs": []
    },
    {
      "cell_type": "code",
      "source": [
        "#Classification Report\n",
        "print(classification_report(y_train,y_pred_train))"
      ],
      "metadata": {
        "id": "YYn4lHn_8kOD"
      },
      "execution_count": null,
      "outputs": []
    },
    {
      "cell_type": "markdown",
      "source": [
        "## **Naive bayes with hyperparameter tuning**"
      ],
      "metadata": {
        "id": "ZlHuIvuq-oji"
      }
    },
    {
      "cell_type": "code",
      "source": [
        "#Grid search cv\n",
        "param_grid = {\"gamma\": [0.1, 1.0, 10, 100, 1000]}\n",
        "naive_bayes_h= GridSearchCV(naive_bayes, param_grid, verbose=2)\n"
      ],
      "metadata": {
        "id": "YEvZiFfn-wfm"
      },
      "execution_count": null,
      "outputs": []
    },
    {
      "cell_type": "code",
      "source": [
        "param_grid_nb = {\n",
        "    'var_smoothing': np.logspace(0,-9, num=100)\n",
        "}\n",
        "\n",
        "naive_bayes_h = GridSearchCV(naive_bayes, param_grid=param_grid_nb, verbose=1, cv=10, n_jobs=-1)\n",
        "naive_bayes_h.fit(X_train, y_train)"
      ],
      "metadata": {
        "id": "PMrTMS3_Akie"
      },
      "execution_count": null,
      "outputs": []
    },
    {
      "cell_type": "code",
      "source": [
        "# Predicting the results\n",
        "y_pred_train =naive_bayes_h.predict(X_train)\n",
        "y_pred_test =naive_bayes_h.predict(X_test)"
      ],
      "metadata": {
        "id": "Dp3NXUaz_aYJ"
      },
      "execution_count": null,
      "outputs": []
    },
    {
      "cell_type": "code",
      "source": [
        "#Evaluation\n",
        "Accuracy_train_nh= accuracy_score(y_train,y_pred_train)\n",
        "Accuracy_test_nh= accuracy_score(y_test,y_pred_test)\n",
        "roc_auc_score_train_nh= roc_auc_score(y_train,y_pred_train)\n",
        "roc_auc_score_test_nh= roc_auc_score(y_test,y_pred_test)\n",
        "precision_nh= precision_score(y_test, y_pred_test, average='weighted')\n",
        "recall_nh=recall_score(y_test, y_pred_test, average='weighted')\n",
        "f1_score_nh=f1_score(y_test,y_pred_test, average='weighted')"
      ],
      "metadata": {
        "id": "L4Hu1Xx3tNuW"
      },
      "execution_count": null,
      "outputs": []
    },
    {
      "cell_type": "code",
      "source": [
        "#confusion_matrix\n",
        "cm = confusion_matrix(y_test, y_pred_test)\n",
        "print(cm)\n",
        "ax= plt.subplot()\n",
        "sns.heatmap(cm, annot=True, ax = ax); #annot=True to annotate cells\n",
        "ax.set_xlabel('Predicted labels',fontsize=15)\n",
        "ax.set_ylabel('True labels',fontsize=15)\n",
        "ax.set_title('Confusion Matrix',fontsize=20)"
      ],
      "metadata": {
        "id": "Y2xelemGHyDp"
      },
      "execution_count": null,
      "outputs": []
    },
    {
      "cell_type": "code",
      "source": [
        "#Classification Report\n",
        "print(classification_report(y_train,y_pred_train))"
      ],
      "metadata": {
        "id": "CaDAUxGhHx9F"
      },
      "execution_count": null,
      "outputs": []
    },
    {
      "cell_type": "markdown",
      "source": [
        "# **SVM(Support Vector Machine Classifier)**\n",
        "\n",
        "\n",
        "\n"
      ],
      "metadata": {
        "id": "0mJR0iJE9a5n"
      }
    },
    {
      "cell_type": "code",
      "source": [
        "#Support vector classifier\n",
        "model = SVC(kernel='rbf')\n",
        "model.fit(X_train,y_train)"
      ],
      "metadata": {
        "id": "T1l42oO79j8H"
      },
      "execution_count": null,
      "outputs": []
    },
    {
      "cell_type": "code",
      "source": [
        "# Predicting the results\n",
        "y_pred_train =model.predict(X_train)\n",
        "y_pred_test =model.predict(X_test)\n",
        "y_pred_s =model.predict(X_test)"
      ],
      "metadata": {
        "id": "dHPZ_0IR91YU"
      },
      "execution_count": null,
      "outputs": []
    },
    {
      "cell_type": "code",
      "source": [
        "#Evaluation\n",
        "Accuracy_train_s= accuracy_score(y_train,y_pred_train)\n",
        "Accuracy_test_s= accuracy_score(y_test,y_pred_test)\n",
        "roc_auc_score_train_s= roc_auc_score(y_train,y_pred_train)\n",
        "roc_auc_score_test_s= roc_auc_score(y_test,y_pred_test)\n",
        "precision_s= precision_score(y_test, y_pred_test, average='weighted')\n",
        "recall_s=recall_score(y_test, y_pred_test, average='weighted')\n",
        "f1_score_s=f1_score(y_test,y_pred_test, average='weighted')"
      ],
      "metadata": {
        "id": "KZVxGsWNtT5_"
      },
      "execution_count": null,
      "outputs": []
    },
    {
      "cell_type": "code",
      "source": [
        "#confusion_matrix\n",
        "cm = confusion_matrix(y_test, y_pred_test)\n",
        "print(cm)\n",
        "ax= plt.subplot()\n",
        "sns.heatmap(cm, annot=True, ax = ax); #annot=True to annotate cells\n",
        "ax.set_xlabel('Predicted labels',fontsize=15)\n",
        "ax.set_ylabel('True labels',fontsize=15)\n",
        "ax.set_title('Confusion Matrix',fontsize=20)"
      ],
      "metadata": {
        "id": "kf4U_sa4Ic7M"
      },
      "execution_count": null,
      "outputs": []
    },
    {
      "cell_type": "code",
      "source": [
        "#Classification Report\n",
        "print(classification_report(y_train,y_pred_train))"
      ],
      "metadata": {
        "id": "irz0yqCsIc4v"
      },
      "execution_count": null,
      "outputs": []
    },
    {
      "cell_type": "markdown",
      "source": [
        "## **SVM with with hyperparameter tuning**"
      ],
      "metadata": {
        "id": "tVJFtyVBBG22"
      }
    },
    {
      "cell_type": "code",
      "source": [
        "# defining parameter range\n",
        "param_grid = {'C': [10], \n",
        "              'gamma': [1, 0.1],\n",
        "              'kernel': ['rbf']} \n",
        "  \n",
        "svm_h = GridSearchCV(model, param_grid, refit = True, verbose = 3)\n",
        "  \n",
        "# fitting the model for grid search\n",
        "svm_h.fit(X_train, y_train)"
      ],
      "metadata": {
        "id": "yOxV0l8pBGpM"
      },
      "execution_count": null,
      "outputs": []
    },
    {
      "cell_type": "code",
      "source": [
        "# Predicting the results\n",
        "y_pred_train =svm_h.predict(X_train)\n",
        "y_pred_test =svm_h.predict(X_test)"
      ],
      "metadata": {
        "id": "iBBgiGt5BoUA"
      },
      "execution_count": null,
      "outputs": []
    },
    {
      "cell_type": "code",
      "source": [
        "#Evaluation\n",
        "Accuracy_train_sh= accuracy_score(y_train,y_pred_train)\n",
        "Accuracy_test_sh= accuracy_score(y_test,y_pred_test)\n",
        "roc_auc_score_train_sh= roc_auc_score(y_train,y_pred_train)\n",
        "roc_auc_score_test_sh= roc_auc_score(y_test,y_pred_test)\n",
        "precision_sh= precision_score(y_test, y_pred_test, average='weighted')\n",
        "recall_sh=recall_score(y_test, y_pred_test, average='weighted')\n",
        "f1_score_sh=f1_score(y_test,y_pred_test, average='weighted')"
      ],
      "metadata": {
        "id": "MDjo5dw9tc2H"
      },
      "execution_count": null,
      "outputs": []
    },
    {
      "cell_type": "code",
      "source": [
        "#confusion_matrix\n",
        "cm = confusion_matrix(y_test, y_pred_test)\n",
        "print(cm)\n",
        "ax= plt.subplot()\n",
        "sns.heatmap(cm, annot=True, ax = ax); #annot=True to annotate cells\n",
        "ax.set_xlabel('Predicted labels',fontsize=15)\n",
        "ax.set_ylabel('True labels',fontsize=15)\n",
        "ax.set_title('Confusion Matrix',fontsize=20)"
      ],
      "metadata": {
        "id": "ZirqqVKtIysw"
      },
      "execution_count": null,
      "outputs": []
    },
    {
      "cell_type": "code",
      "source": [
        "#Classification Report\n",
        "print(classification_report(y_train,y_pred_train))"
      ],
      "metadata": {
        "id": "wcTD7sNuIypU"
      },
      "execution_count": null,
      "outputs": []
    },
    {
      "cell_type": "markdown",
      "source": [
        "# **All Model's Evaluation**"
      ],
      "metadata": {
        "id": "hp5O0PXmtm5K"
      }
    },
    {
      "cell_type": "code",
      "source": [
        "#Models without Hyperparameter Tuning\n",
        "#models and there results in dictionary  \n",
        "model_dict= {'Logistic':[Accuracy_train_l,Accuracy_test_l, roc_auc_score_train_l,roc_auc_score_test_l,precision_l,recall_l,f1_score_l],\n",
        "             'Decision Tree':[Accuracy_train_t,Accuracy_test_t, roc_auc_score_train_t,roc_auc_score_test_t,precision_t,recall_t,f1_score_t],\n",
        "             'Random Forest':[Accuracy_train_r,Accuracy_test_r, roc_auc_score_train_r,roc_auc_score_test_r,precision_r,recall_r,f1_score_r],\n",
        "             'XG Boost':[Accuracy_train_x,Accuracy_test_x, roc_auc_score_train_x,roc_auc_score_test_x,precision_x,recall_x,f1_score_x],\n",
        "             'KNN':[Accuracy_train_k,Accuracy_test_k, roc_auc_score_train_k,roc_auc_score_test_k,precision_k,recall_k,f1_score_k],\n",
        "             'Naive Bayes':[Accuracy_train_n,Accuracy_test_n, roc_auc_score_train_n,roc_auc_score_test_n,precision_n,recall_n,f1_score_n],\n",
        "             'SVM':[Accuracy_train_s,Accuracy_test_s, roc_auc_score_train_s,roc_auc_score_test_s,precision_s,recall_s,f1_score_s]}"
      ],
      "metadata": {
        "id": "R8JXdRdovL40"
      },
      "execution_count": null,
      "outputs": []
    },
    {
      "cell_type": "code",
      "source": [
        "#converting dictionary into Dataframe\n",
        "result=pd.DataFrame(model_dict,index =['Accuracy Train','Accuracy Test','ROC AUC Train','ROC AUC Test','Precision','Recall','F1 Score']) "
      ],
      "metadata": {
        "id": "_y2-1ZBYw16Y"
      },
      "execution_count": null,
      "outputs": []
    },
    {
      "cell_type": "markdown",
      "source": [
        "**Evaluation of all models without Hyperparameter Tuning**"
      ],
      "metadata": {
        "id": "KZCD4nVzJEjP"
      }
    },
    {
      "cell_type": "code",
      "source": [
        "#Evaluation table\n",
        "result"
      ],
      "metadata": {
        "id": "zVCnkZUDyy6H"
      },
      "execution_count": null,
      "outputs": []
    },
    {
      "cell_type": "markdown",
      "source": [
        "**Train and Test Accuracy Of All Models Without HyperParameter Tuning**"
      ],
      "metadata": {
        "id": "yt02Hs8FJckt"
      }
    },
    {
      "cell_type": "code",
      "source": [
        "#plot of accuracy\n",
        "d1=result[:-5]\n",
        "d1.transpose(copy=True).plot()\n",
        "plt.title(\"Train and Test Accuracy\",fontsize=\"20\")\n",
        "plt.gcf().set_size_inches(15, 5)"
      ],
      "metadata": {
        "id": "i_mRuyAU_h9-"
      },
      "execution_count": null,
      "outputs": []
    },
    {
      "cell_type": "markdown",
      "source": [
        "**Different types of Evaluations of models without hyperparameter tuning**"
      ],
      "metadata": {
        "id": "Okw6LycMKSY-"
      }
    },
    {
      "cell_type": "code",
      "source": [
        "#All Evaluations of models without hyperparameter tuning\n",
        "resultt=result.transpose(copy=True)\n",
        "resultt.plot()\n",
        "plt.title(\"Evaluation\",fontsize=\"20\")\n",
        "plt.gcf().set_size_inches(15, 5)"
      ],
      "metadata": {
        "id": "Ve4joY09AeJi"
      },
      "execution_count": null,
      "outputs": []
    },
    {
      "cell_type": "code",
      "source": [
        "#Models with Hyperparameter Tuning\n",
        "#models and there results in dictionary  \n",
        "model_dict1= {'Logistic with Hyperparameter Tuning':[Accuracy_train_lh,Accuracy_test_lh, roc_auc_score_train_lh,roc_auc_score_test_lh,precision_lh,recall_lh,f1_score_lh],\n",
        "             'Decision Tree with Hyperparameter Tuning':[Accuracy_train_th,Accuracy_test_th, roc_auc_score_train_th,roc_auc_score_test_th,precision_th,recall_th,f1_score_th],\n",
        "             'Random Forest with Hyperparameter Tuning':[Accuracy_train_rh,Accuracy_test_rh, roc_auc_score_train_rh,roc_auc_score_test_rh,precision_rh,recall_rh,f1_score_rh],\n",
        "             'XG Boost with Hyperparameter Tuning':[Accuracy_train_xh,Accuracy_test_xh, roc_auc_score_train_xh,roc_auc_score_test_xh,precision_xh,recall_xh,f1_score_xh],\n",
        "             'KNN with Hyperparameter Tuning':[Accuracy_train_kh,Accuracy_test_kh, roc_auc_score_train_kh,roc_auc_score_test_kh,precision_kh,recall_kh,f1_score_kh],\n",
        "             'Naive Bayes with Hyperparameter Tuning':[Accuracy_train_nh,Accuracy_test_nh, roc_auc_score_train_nh,roc_auc_score_test_nh,precision_nh,recall_nh,f1_score_nh],\n",
        "             'SVM with Hyperparameter Tuning':[Accuracy_train_sh,Accuracy_test_sh, roc_auc_score_train_sh,roc_auc_score_test_sh,precision_sh,recall_sh,f1_score_sh]}"
      ],
      "metadata": {
        "id": "VkcUwDy1xyx2"
      },
      "execution_count": null,
      "outputs": []
    },
    {
      "cell_type": "code",
      "source": [
        "#converting dictionary into Dataframe\n",
        "result1=pd.DataFrame(model_dict1,index =['Accuracy Train','Accuracy Test','ROC AUC Train','ROC AUC Test','Precision','Recall','F1 Score'])"
      ],
      "metadata": {
        "id": "cF_8_K_hxyvY"
      },
      "execution_count": null,
      "outputs": []
    },
    {
      "cell_type": "markdown",
      "source": [
        "**Evaluation of all models with Hyperparameter Tuning**"
      ],
      "metadata": {
        "id": "ZCR2b1MJKkN8"
      }
    },
    {
      "cell_type": "code",
      "source": [
        "#Evaluation table\n",
        "result1"
      ],
      "metadata": {
        "id": "HFGArOdPy0FW"
      },
      "execution_count": null,
      "outputs": []
    },
    {
      "cell_type": "markdown",
      "source": [
        "**Train and Test Accuracy Of All Models Without HyperParameter Tuning**"
      ],
      "metadata": {
        "id": "-SY0OWBLK6zl"
      }
    },
    {
      "cell_type": "code",
      "source": [
        "#plot of accuracy\n",
        "d1=result1[:-5]\n",
        "d1.transpose(copy=True).plot()\n",
        "plt.title(\"Train and Test Accuracy\",fontsize=\"20\")\n",
        "plt.xticks(rotation=20, horizontalalignment=\"center\")\n",
        "plt.gcf().set_size_inches(15, 5)"
      ],
      "metadata": {
        "id": "-LuRzWr0K8Ul"
      },
      "execution_count": null,
      "outputs": []
    },
    {
      "cell_type": "markdown",
      "source": [
        "**Different types of Evaluations of models without hyperparameter tuning**"
      ],
      "metadata": {
        "id": "X2P5JxEeLTow"
      }
    },
    {
      "cell_type": "code",
      "source": [
        "#All Evaluations of models without hyperparameter tuning\n",
        "resultt=result1.transpose(copy=True)\n",
        "resultt.plot()\n",
        "plt.title(\"Evaluation\",fontsize=\"20\")\n",
        "plt.xticks(rotation=20, horizontalalignment=\"center\")\n",
        "plt.gcf().set_size_inches(15, 5)"
      ],
      "metadata": {
        "id": "Q1j0Nu1tLZeH"
      },
      "execution_count": null,
      "outputs": []
    }
  ]
}